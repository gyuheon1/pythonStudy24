{
  "nbformat": 4,
  "nbformat_minor": 0,
  "metadata": {
    "colab": {
      "provenance": [],
      "authorship_tag": "ABX9TyMOJyTHtFZBdvZ2Ew/hCpTe",
      "include_colab_link": true
    },
    "kernelspec": {
      "name": "python3",
      "display_name": "Python 3"
    },
    "language_info": {
      "name": "python"
    }
  },
  "cells": [
    {
      "cell_type": "markdown",
      "metadata": {
        "id": "view-in-github",
        "colab_type": "text"
      },
      "source": [
        "<a href=\"https://colab.research.google.com/github/gyuheon1/pythonStudy24/blob/master/IFstudy.ipynb\" target=\"_parent\"><img src=\"https://colab.research.google.com/assets/colab-badge.svg\" alt=\"Open In Colab\"/></a>"
      ]
    },
    {
      "cell_type": "markdown",
      "source": [
        "프로그램의 판단을 할 수 있는 조건문인 if를 사용해본다.\n",
        "\n",
        "if문은 만약에 라는 의미를 가지고 있고 결과는 참, 거짓으로 판단한다."
      ],
      "metadata": {
        "id": "nCxMEpjynbdV"
      }
    },
    {
      "cell_type": "code",
      "source": [
        "# 돈이 있으면 택시를 타고, 없으면 걸어간다.\n",
        "\n",
        "money =True                   # 돈이 있으면\n",
        "if money:                     # 파이썬에는 {} 없기 때문에 : 으로 구문을 내림\n",
        "  print(\"택시를 타고 가라\")   # True 일 때, 처리(하위 처리를 위해서 띄어쓰기 4번을 진행)\n",
        "  print(\"모범택시는 비싸니 다음 택시를 기다리라\")\n",
        "  print(\"택시가 안보이면 카카오택시를 불러라\")\n",
        "else:                         # False 일 때, 처리\n",
        "  print(\"==========\")\n",
        "  print(\"걸어가라\")           # False 용 명령어\n",
        "  print(\"==========\")"
      ],
      "metadata": {
        "colab": {
          "base_uri": "https://localhost:8080/"
        },
        "id": "bUsZYhlgtFJ4",
        "outputId": "68ee7718-8678-4ab1-e902-494c0b30439b"
      },
      "execution_count": 5,
      "outputs": [
        {
          "output_type": "stream",
          "name": "stdout",
          "text": [
            "택시를 타고 가라\n",
            "모범택시는 비싸니 다음 택시를 기다리라\n",
            "택시가 안보이면 카카오택시를 불러라\n"
          ]
        }
      ]
    },
    {
      "cell_type": "code",
      "source": [
        "money = 6000\n",
        "if money >= 3000:             # if 뒤에 써지는 문장이 조건이 됨 :\n",
        "  print(\"택시를 타고 가라\")   # True\n",
        "else:\n",
        "  print(\"걸어가라\")           # False"
      ],
      "metadata": {
        "colab": {
          "base_uri": "https://localhost:8080/"
        },
        "id": "NT-NedoDtXYL",
        "outputId": "3a0bf8c5-52f2-49c9-e845-07944e31370c"
      },
      "execution_count": 7,
      "outputs": [
        {
          "output_type": "stream",
          "name": "stdout",
          "text": [
            "택시를 타고 가라\n"
          ]
        }
      ]
    },
    {
      "cell_type": "code",
      "source": [
        "# x or y  -> 또는 ( 둘 중 하나만 참이어도 참)\n",
        "# x and y -> ~이고 (둘 다 참이어야 참)\n",
        "# not x   -> x가 아니면 참 (거짓, 반전)\n",
        "\n",
        "# 돈이 3000원 이상 있거나 카드가 있다면 택시를 타고 가고, 아니면 걸어가라\n",
        "\n",
        "money = 2000\n",
        "card = False\n",
        "if money >= 3000 or card:\n",
        "  print(\"택시를 타고 가라\")\n",
        "else:\n",
        "  print(\"걸어가라\")\n",
        "\n",
        "# or 연산 진리표\n",
        "#money   or   card    =   결과\n",
        "#  0            0     =    0\n",
        "#  1            0     =    1\n",
        "#  0            1     =    1\n",
        "#  1            1     =    1"
      ],
      "metadata": {
        "colab": {
          "base_uri": "https://localhost:8080/"
        },
        "id": "bewBsvY8v8KB",
        "outputId": "e829560c-46dd-42c3-a8e0-bcfc9c6a033c"
      },
      "execution_count": 11,
      "outputs": [
        {
          "output_type": "stream",
          "name": "stdout",
          "text": [
            "걸어가라\n"
          ]
        }
      ]
    },
    {
      "cell_type": "code",
      "source": [
        "# in          , not in\n",
        "# x in list   , x not in list\n",
        "# x in tuple  , x not in tuple\n",
        "#x in 문자열  , x not in 문자열\n",
        "\n",
        "1 not in [1, 2, 3]"
      ],
      "metadata": {
        "colab": {
          "base_uri": "https://localhost:8080/"
        },
        "id": "1h14qLpRx2k5",
        "outputId": "f076a07f-e607-4d11-a086-1b93423e24e7"
      },
      "execution_count": 13,
      "outputs": [
        {
          "output_type": "execute_result",
          "data": {
            "text/plain": [
              "False"
            ]
          },
          "metadata": {},
          "execution_count": 13
        }
      ]
    },
    {
      "cell_type": "code",
      "source": [
        "'a' in ('a', 'b', 'c')"
      ],
      "metadata": {
        "colab": {
          "base_uri": "https://localhost:8080/"
        },
        "id": "7YjVour2zYwi",
        "outputId": "1eb25c03-7521-44f3-b576-ec7f47dabedb"
      },
      "execution_count": 14,
      "outputs": [
        {
          "output_type": "execute_result",
          "data": {
            "text/plain": [
              "True"
            ]
          },
          "metadata": {},
          "execution_count": 14
        }
      ]
    },
    {
      "cell_type": "code",
      "source": [
        "'j' not in 'python'"
      ],
      "metadata": {
        "colab": {
          "base_uri": "https://localhost:8080/"
        },
        "id": "Seh20RIDzxg5",
        "outputId": "236a3313-2577-4657-9f12-2ab06fb9d291"
      },
      "execution_count": 18,
      "outputs": [
        {
          "output_type": "execute_result",
          "data": {
            "text/plain": [
              "True"
            ]
          },
          "metadata": {},
          "execution_count": 18
        }
      ]
    },
    {
      "cell_type": "code",
      "source": [
        "# 만약에 주머니에 돈이 있으면 택시를 타고 가고, 없으면 걸어가라\n",
        "pocket = ['paper', 'cellphone', 'money']\n",
        "if 'money' in pocket:\n",
        "  print(\"택시를 타고 가라\")\n",
        "else:\n",
        "    print('걸어가라')"
      ],
      "metadata": {
        "colab": {
          "base_uri": "https://localhost:8080/"
        },
        "id": "XDwIvJWwz8M5",
        "outputId": "523f2195-2026-4fa7-fdf9-6c2d6ca60455"
      },
      "execution_count": 19,
      "outputs": [
        {
          "output_type": "stream",
          "name": "stdout",
          "text": [
            "택시를 타고 가라\n"
          ]
        }
      ]
    },
    {
      "cell_type": "code",
      "source": [
        "# 조건문에서 아무 일도 하지 않게 설정하고 싶을 때 pass\n",
        "# 조건문의 참, 거직에 따라 실행할 행동을 정의할 때나 아무런 일도 하지 않도록 설정하고 싶을 때\n",
        "\n",
        "#주머니에 돈이 있으면 가만히 있고, 주머니에 돈이 없으면 카드를 꺼내라.\n",
        "\n",
        "pocket = ['paper','card','cellphone']\n",
        "if 'money' in pocket:\n",
        "  pass              # skip 같은 의미\n",
        "else:\n",
        "    print('카드를 꺼내라')"
      ],
      "metadata": {
        "colab": {
          "base_uri": "https://localhost:8080/"
        },
        "id": "7HvxSP0r3I4l",
        "outputId": "a8fbe594-320f-4ecb-d042-74af87bd4cb6"
      },
      "execution_count": 20,
      "outputs": [
        {
          "output_type": "stream",
          "name": "stdout",
          "text": [
            "카드를 꺼내라\n"
          ]
        }
      ]
    },
    {
      "cell_type": "code",
      "source": [
        "# elif if문 아래쪽에 한번 더 비교하는 조건문 (elif의 사용횟수는 무제한)\n",
        "\n",
        "# 주머니에 돈이 있으면 택시를 타고 가고,\n",
        "# 주머니에 돈은 없지만 카드가 있으면 택시를 타고 가고,\n",
        "# 주머니에 돈도 없고 카드도 없으면 걸어가라.\n",
        "\n",
        "pocket = ['paper', 'cellphone','card']\n",
        "\n",
        "if 'money' in pocket:\n",
        "    print('택시 타고 가라')\n",
        "elif 'card' in pocket:\n",
        "    print('택시 타고 가라')\n",
        "else:\n",
        "    print('걸어가라')"
      ],
      "metadata": {
        "colab": {
          "base_uri": "https://localhost:8080/"
        },
        "id": "UP4jwR207GiT",
        "outputId": "873a2cbd-7d46-4909-e5f0-1172bddd7622"
      },
      "execution_count": 22,
      "outputs": [
        {
          "output_type": "stream",
          "name": "stdout",
          "text": [
            "택시 타고 가라\n"
          ]
        }
      ]
    },
    {
      "cell_type": "code",
      "source": [
        "# 패션코딩 -> 최대한 간결하게 코딩하는 기법\n",
        "pocket = ['paper', 'cellphone','card']\n",
        "\n",
        "if 'money' in pocket: print('택시 타고 가라')\n",
        "elif 'card' in pocket: print('택시 타고 가라')\n",
        "else: print('걸어가라')"
      ],
      "metadata": {
        "colab": {
          "base_uri": "https://localhost:8080/"
        },
        "id": "EU7FiGWl9PTc",
        "outputId": "9bf4778f-2d4e-415c-8b16-d4bff6828b78"
      },
      "execution_count": 23,
      "outputs": [
        {
          "output_type": "stream",
          "name": "stdout",
          "text": [
            "택시 타고 가라\n"
          ]
        }
      ]
    },
    {
      "cell_type": "code",
      "source": [
        "# 시험 점수가 60점 이상이면 successs, 아니면 failure를 변수에 담아 출력 해보자"
      ],
      "metadata": {
        "id": "nPXXBLdq_Kw0"
      },
      "execution_count": 24,
      "outputs": []
    },
    {
      "cell_type": "code",
      "source": [
        "score = 88\n",
        "if score >= 60: message = 'success'\n",
        "else: messaage = 'failure'\n",
        "print(message)"
      ],
      "metadata": {
        "colab": {
          "base_uri": "https://localhost:8080/"
        },
        "id": "qIL1NYUO_fyD",
        "outputId": "32495f5e-85c1-4b6a-82d9-760a9ad93401"
      },
      "execution_count": 25,
      "outputs": [
        {
          "output_type": "stream",
          "name": "stdout",
          "text": [
            "success\n"
          ]
        }
      ]
    },
    {
      "cell_type": "code",
      "source": [
        "# 파이썬 조건부 표현식\n",
        "# 변수 = 참인경우의 값 if 조건문 else 거짓인경우의 값\n",
        "message = 'success' if score >= 60 else 'failure'\n",
        "print(message)"
      ],
      "metadata": {
        "colab": {
          "base_uri": "https://localhost:8080/"
        },
        "id": "xzkoAYSE_wXz",
        "outputId": "7bbaa0eb-6f75-45e6-f3bd-09df8c676745"
      },
      "execution_count": 26,
      "outputs": [
        {
          "output_type": "stream",
          "name": "stdout",
          "text": [
            "success\n"
          ]
        }
      ]
    },
    {
      "cell_type": "code",
      "source": [
        "# 미션\n",
        "# 성적처리용 코드 작성 a등급 ~ f등급까지 출력\n",
        "name = input('이름을 입력하세요 : ')\n",
        "score = input('성적을 입력하세요 : ')\n",
        "if score.isdigit() == False: print('숫자를 입력하세요.') # .isdigit() : 자열이 '숫자'로만 이루어져있는지 확인하는 함수\n",
        "else:\n",
        "    score = int(score)\n",
        "    if score < 0 or score >= 100: print('0 ~ 100 사이의 점수를 입력해주세요.')\n",
        "    else:\n",
        "        if   score >= 90: print(f'%s 님의 점수는 %d 이고 등급은 \"A\"입니다.' % (name,score))\n",
        "        elif score >= 80: print(f'%s 님의 점수는 %d 이고 등급은 \"B\"입니다.' % (name,score))\n",
        "        elif score >= 70: print(f'%s 님의 점수는 %d 이고 등급은 \"C\"입니다.' % (name,score))\n",
        "        elif score >= 60: print(f'%s 님의 점수는 %d 이고 등급은 \"D\"입니다.' % (name,score))\n",
        "        else:             print(f'%s 님의 점수는 %d 이고 등급은 \"F\"입니다.' % (name,score))"
      ],
      "metadata": {
        "colab": {
          "base_uri": "https://localhost:8080/"
        },
        "id": "Jbkl9KwbA6iF",
        "outputId": "18c9e4ea-4621-4511-f586-82d672fa5728"
      },
      "execution_count": 52,
      "outputs": [
        {
          "output_type": "stream",
          "name": "stdout",
          "text": [
            "이름을 입력하세요 : 이규현\n",
            "성적을 입력하세요 : 91\n",
            "이규현 님의 점수는 91 이고 등급은 \"A\"입니다.\n"
          ]
        }
      ]
    }
  ]
}