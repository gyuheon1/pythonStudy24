{
  "nbformat": 4,
  "nbformat_minor": 0,
  "metadata": {
    "colab": {
      "provenance": [],
      "authorship_tag": "ABX9TyOLtIkTDqWtkwlgkLgr/93r",
      "include_colab_link": true
    },
    "kernelspec": {
      "name": "python3",
      "display_name": "Python 3"
    },
    "language_info": {
      "name": "python"
    }
  },
  "cells": [
    {
      "cell_type": "markdown",
      "metadata": {
        "id": "view-in-github",
        "colab_type": "text"
      },
      "source": [
        "<a href=\"https://colab.research.google.com/github/gyuheon1/pythonStudy24/blob/master/ClassExam.ipynb\" target=\"_parent\"><img src=\"https://colab.research.google.com/assets/colab-badge.svg\" alt=\"Open In Colab\"/></a>"
      ]
    },
    {
      "cell_type": "markdown",
      "source": [
        "Class는 객체지향 언어의 필수로 가각의 객체를 담당한다.\n",
        "\n",
        "만약 shopingmall프로젝트를 만든다고 하면\n",
        "\n",
        "회원용.py -> 동작(매서드) C. R. U, D, other\n",
        "\n",
        "아이템용.py -> 동작(매서드) C. R. U, D, other\n",
        "\n",
        "게시판용.py -> 동작(매서드) C. R. U, D, other\n",
        "\n",
        "장바구니.py -> 동작(매서드) C. R. U, D, other\n",
        "\n",
        "main.py와 연동되게 설정한다."
      ],
      "metadata": {
        "id": "xFJLo3mKFfjL"
      }
    },
    {
      "cell_type": "code",
      "source": [
        "# 계산기 처리용 클레스를 만들어보자\n",
        "result = 0                              # 결과값 처리용 변수\n",
        "\n",
        "def add(num):                           # 계산기용 함수 만들기\n",
        "    global result                       # 글로벌함수 result 가져오기\n",
        "    result += num                       # 함수에 변수로 들어온값을 result에 더해준다\n",
        "    return result                       # 함수의 결과값 리턴해주기\n",
        "\n",
        "print(add(3))                           # 함수(매서드)에 변수를 넣고 결과값 리턴하기\n",
        "print(add(4))\n",
        "print(add(6))"
      ],
      "metadata": {
        "colab": {
          "base_uri": "https://localhost:8080/"
        },
        "id": "KSsNrWyKHsxN",
        "outputId": "28e3db8a-ff78-44f8-d282-b0b4255ae043"
      },
      "execution_count": 2,
      "outputs": [
        {
          "output_type": "stream",
          "name": "stdout",
          "text": [
            "3\n",
            "7\n",
            "13\n"
          ]
        }
      ]
    },
    {
      "cell_type": "code",
      "source": [
        "# 만일 한 프로그램에서 2대의 계산기가 필요한 상황이라면?\n",
        "\n",
        "result1 = 0\n",
        "result2 = 0\n",
        "\n",
        "def add1(num):                           # 계산기용 함수 만들기\n",
        "    global result1                       # 글로벌함수 result 가져오기\n",
        "    result1 += num                       # 함수에 변수로 들어온값을 result에 더해준다\n",
        "    return result1                       # 함수의 결과값 리턴해주기\n",
        "\n",
        "def add2(num):                           # 계산기용 함수 만들기\n",
        "    global result2                       # 글로벌함수 result 가져오기\n",
        "    result2 += num                       # 함수에 변수로 들어온값을 result에 더해준다\n",
        "    return result2                       # 함수의 결과값 리턴해주기\n",
        ""
      ],
      "metadata": {
        "id": "tosGIUUZHsvT"
      },
      "execution_count": 3,
      "outputs": []
    },
    {
      "cell_type": "code",
      "source": [
        "# Class를 이용한 계산기\n",
        "\n",
        "class Calculator:               # 객체 생성용 ( 생성자용 매서드, 일반 메서드 )\n",
        "\n",
        "    def __init__(self):         # 생성자 ( 객체 생성시 0순위로 처리 됨 )\n",
        "        self.result = 0         # 객체 자신의 result변수를 만들고 0값을 넣음\n",
        "\n",
        "    def add(self, num):         # 객체용 매서드\n",
        "        self.result += num      # 생성자에 있는 변수와 num의 누적합 저장\n",
        "        return self.result      # 결과값 리턴"
      ],
      "metadata": {
        "id": "ySUritAbHstT"
      },
      "execution_count": 4,
      "outputs": []
    },
    {
      "cell_type": "code",
      "source": [
        "# 객체를 생성해서 변수에 연결 ( JAVA : Calculator cal1 = new Calculator() )\n",
        "\n",
        "cal1 = Calculator()     # 객체1\n",
        "cal2 = Calculator()     # 객체2\n",
        "\n",
        "print(cal1.add(3))      # 1번 계산기"
      ],
      "metadata": {
        "colab": {
          "base_uri": "https://localhost:8080/"
        },
        "id": "rSK5xX8PHsrE",
        "outputId": "e5a0a03b-9c03-4ec1-c64f-12ef06ca80f6"
      },
      "execution_count": 5,
      "outputs": [
        {
          "output_type": "stream",
          "name": "stdout",
          "text": [
            "3\n"
          ]
        }
      ]
    },
    {
      "cell_type": "code",
      "source": [
        "print(cal2.add(9))      # 2번 계산기"
      ],
      "metadata": {
        "colab": {
          "base_uri": "https://localhost:8080/"
        },
        "id": "fJtCmEQWHsoz",
        "outputId": "b06f08ea-8d25-4186-b047-576e500cda2f"
      },
      "execution_count": 6,
      "outputs": [
        {
          "output_type": "stream",
          "name": "stdout",
          "text": [
            "9\n"
          ]
        }
      ]
    },
    {
      "cell_type": "code",
      "source": [
        "print(cal1.add(9))      # 1번 계산기"
      ],
      "metadata": {
        "colab": {
          "base_uri": "https://localhost:8080/"
        },
        "id": "502zR3REH9Ar",
        "outputId": "3cad9c7b-8fbb-4e64-a2f1-457e64b6540e"
      },
      "execution_count": 7,
      "outputs": [
        {
          "output_type": "stream",
          "name": "stdout",
          "text": [
            "12\n"
          ]
        }
      ]
    },
    {
      "cell_type": "code",
      "source": [
        "print(cal2.add(10))     # 2번 계산기"
      ],
      "metadata": {
        "colab": {
          "base_uri": "https://localhost:8080/"
        },
        "id": "acrb4TZiH8-T",
        "outputId": "df29ccc7-e964-4eab-ee4e-c0cb56bfe1e6"
      },
      "execution_count": 8,
      "outputs": [
        {
          "output_type": "stream",
          "name": "stdout",
          "text": [
            "19\n"
          ]
        }
      ]
    },
    {
      "cell_type": "code",
      "source": [
        "# Class를 확용한 사칙연산 계산기 만들기\n",
        "\n",
        "class FourCal:           # 클래스 생성\n",
        "    pass                 # 아무기능없이 동작"
      ],
      "metadata": {
        "id": "zNVmeEGpH88L"
      },
      "execution_count": 9,
      "outputs": []
    },
    {
      "cell_type": "code",
      "source": [
        "a = FourCal()\n",
        "type(a)"
      ],
      "metadata": {
        "colab": {
          "base_uri": "https://localhost:8080/"
        },
        "id": "aK7sLOhnH85z",
        "outputId": "0669f9a1-b632-4bcb-a07d-4f902e1f493d"
      },
      "execution_count": 10,
      "outputs": [
        {
          "output_type": "execute_result",
          "data": {
            "text/plain": [
              "__main__.FourCal"
            ]
          },
          "metadata": {},
          "execution_count": 10
        }
      ]
    },
    {
      "cell_type": "code",
      "source": [
        "class FourCal:           # 클래스 생성\n",
        "    # pass                 # 아무기능없이 동작\n",
        "\n",
        "    def setdata(self,first,second):                         # 매서드 선언(self 필수)\n",
        "        self.first = first                                  # JABA에서의 this.first = first\n",
        "        self.second = second"
      ],
      "metadata": {
        "id": "2j6y8-w-H83E"
      },
      "execution_count": 11,
      "outputs": []
    },
    {
      "cell_type": "code",
      "source": [
        "a = FourCal()               # a 변수에 객체가 연결됨\n",
        "a.setdata(4,2)              # a 변수를 self로 처리함"
      ],
      "metadata": {
        "id": "gG_UHi9KIHe7"
      },
      "execution_count": 12,
      "outputs": []
    },
    {
      "cell_type": "code",
      "source": [
        "b = FourCal()               # b 변수에 객체가 연결됨\n",
        "FourCal.setdata(b,4,2)      # b는 객체의 연결자"
      ],
      "metadata": {
        "id": "QRy-uoL-IHcs"
      },
      "execution_count": 13,
      "outputs": []
    },
    {
      "cell_type": "code",
      "source": [
        "print(a.first)"
      ],
      "metadata": {
        "colab": {
          "base_uri": "https://localhost:8080/"
        },
        "id": "9mi6PKbiIHaj",
        "outputId": "e1e955cc-9957-4ceb-9455-e5a8bb812664"
      },
      "execution_count": 14,
      "outputs": [
        {
          "output_type": "stream",
          "name": "stdout",
          "text": [
            "4\n"
          ]
        }
      ]
    },
    {
      "cell_type": "code",
      "source": [
        "print(b.second)"
      ],
      "metadata": {
        "colab": {
          "base_uri": "https://localhost:8080/"
        },
        "id": "gQfpb_bXIHXz",
        "outputId": "3292fafc-9968-46dd-e57c-a7dbeb9b5560"
      },
      "execution_count": 15,
      "outputs": [
        {
          "output_type": "stream",
          "name": "stdout",
          "text": [
            "2\n"
          ]
        }
      ]
    },
    {
      "cell_type": "code",
      "source": [
        "class FourCal:           # 클래스 생성\n",
        "    # pass                 # 아무기능없이 동작\n",
        "\n",
        "    def setdata(self,first,second):                         # 매서드 선언(self 필수)\n",
        "        self.first = first                                  # JABA에서의 this.first = first\n",
        "        self.second = second                                # JABA에서의 this.second = second\n",
        "\n",
        "    def add(self):                                          # 매서드 선언\n",
        "        result = self.first + self.second                   # first 와 second 를 더해서 result에 저장\n",
        "        return result                                       # result를 반환\n",
        "\n",
        "    def sub(self):                                          # 매서드 선언\n",
        "        result = self.first - self.second                   # first 와 second 를 빼서 result에 저장\n",
        "        return result                                       # result를 반환\n",
        "\n",
        "    def mul(self):                                          # 매서드 선언\n",
        "        result = self.first * self.second                   # first 와 second 를 곱해서 result에 저장\n",
        "        return result                                       # result를 반환\n",
        "\n",
        "    def div(self):                                          # 매서드 선언\n",
        "        result = self.first / self.second                   # first 와 second 를 나눠서 result에 저장\n",
        "        return result                                       # result를 반환"
      ],
      "metadata": {
        "id": "VaMbsbg0IHVb"
      },
      "execution_count": 16,
      "outputs": []
    },
    {
      "cell_type": "code",
      "source": [
        "a = FourCal()               # a 변수에 객체가 연결됨\n",
        "a.setdata(4,2)              # a 변수를 self로 처리함"
      ],
      "metadata": {
        "id": "pycncy7rIOFj"
      },
      "execution_count": 17,
      "outputs": []
    },
    {
      "cell_type": "code",
      "source": [
        "b = FourCal()               # b 변수에 객체가 연결됨\n",
        "FourCal.setdata(b,4,2)      # b는 객체의 연결자"
      ],
      "metadata": {
        "id": "d7hxdm3WIODb"
      },
      "execution_count": 18,
      "outputs": []
    },
    {
      "cell_type": "code",
      "source": [
        "c = FourCal()             # c 변수에 객체가 연결됨\n",
        "c.setdata(5,5)            # 두개의 데이터를 저장\n",
        "print(c.add())\n",
        "print(c.sub())\n",
        "print(c.mul())\n",
        "print(c.div())"
      ],
      "metadata": {
        "colab": {
          "base_uri": "https://localhost:8080/"
        },
        "id": "YBfnRJ81IOA7",
        "outputId": "84030e7e-4559-46fb-c2e6-955c8082c03f"
      },
      "execution_count": 19,
      "outputs": [
        {
          "output_type": "stream",
          "name": "stdout",
          "text": [
            "10\n",
            "0\n",
            "25\n",
            "1.0\n"
          ]
        }
      ]
    },
    {
      "cell_type": "code",
      "source": [
        "d = FourCal()\n",
        "d.add()"
      ],
      "metadata": {
        "colab": {
          "base_uri": "https://localhost:8080/",
          "height": 294
        },
        "id": "GcLL7chRIN-T",
        "outputId": "c653410b-7413-43ea-8fe7-4948126c4e70"
      },
      "execution_count": 20,
      "outputs": [
        {
          "output_type": "error",
          "ename": "AttributeError",
          "evalue": "'FourCal' object has no attribute 'first'",
          "traceback": [
            "\u001b[0;31m---------------------------------------------------------------------------\u001b[0m",
            "\u001b[0;31mAttributeError\u001b[0m                            Traceback (most recent call last)",
            "\u001b[0;32m<ipython-input-20-16eb77566141>\u001b[0m in \u001b[0;36m<cell line: 2>\u001b[0;34m()\u001b[0m\n\u001b[1;32m      1\u001b[0m \u001b[0md\u001b[0m \u001b[0;34m=\u001b[0m \u001b[0mFourCal\u001b[0m\u001b[0;34m(\u001b[0m\u001b[0;34m)\u001b[0m\u001b[0;34m\u001b[0m\u001b[0;34m\u001b[0m\u001b[0m\n\u001b[0;32m----> 2\u001b[0;31m \u001b[0md\u001b[0m\u001b[0;34m.\u001b[0m\u001b[0madd\u001b[0m\u001b[0;34m(\u001b[0m\u001b[0;34m)\u001b[0m\u001b[0;34m\u001b[0m\u001b[0;34m\u001b[0m\u001b[0m\n\u001b[0m",
            "\u001b[0;32m<ipython-input-16-f3d287b00661>\u001b[0m in \u001b[0;36madd\u001b[0;34m(self)\u001b[0m\n\u001b[1;32m      7\u001b[0m \u001b[0;34m\u001b[0m\u001b[0m\n\u001b[1;32m      8\u001b[0m     \u001b[0;32mdef\u001b[0m \u001b[0madd\u001b[0m\u001b[0;34m(\u001b[0m\u001b[0mself\u001b[0m\u001b[0;34m)\u001b[0m\u001b[0;34m:\u001b[0m                                          \u001b[0;31m# 매서드 선언\u001b[0m\u001b[0;34m\u001b[0m\u001b[0;34m\u001b[0m\u001b[0m\n\u001b[0;32m----> 9\u001b[0;31m         \u001b[0mresult\u001b[0m \u001b[0;34m=\u001b[0m \u001b[0mself\u001b[0m\u001b[0;34m.\u001b[0m\u001b[0mfirst\u001b[0m \u001b[0;34m+\u001b[0m \u001b[0mself\u001b[0m\u001b[0;34m.\u001b[0m\u001b[0msecond\u001b[0m                   \u001b[0;31m# first 와 second 를 더해서 result에 저장\u001b[0m\u001b[0;34m\u001b[0m\u001b[0;34m\u001b[0m\u001b[0m\n\u001b[0m\u001b[1;32m     10\u001b[0m         \u001b[0;32mreturn\u001b[0m \u001b[0mresult\u001b[0m                                       \u001b[0;31m# result를 반환\u001b[0m\u001b[0;34m\u001b[0m\u001b[0;34m\u001b[0m\u001b[0m\n\u001b[1;32m     11\u001b[0m \u001b[0;34m\u001b[0m\u001b[0m\n",
            "\u001b[0;31mAttributeError\u001b[0m: 'FourCal' object has no attribute 'first'"
          ]
        }
      ]
    },
    {
      "cell_type": "code",
      "source": [
        "class FourCal:           # 클래스 생성\n",
        "    # pass                 # 아무기능없이 동작\n",
        "\n",
        "    # 필드 : 객체마다 가지고 있어야 할 데이터들 (dto, vo)\n",
        "    first = 0\n",
        "    second = 0\n",
        "\n",
        "    # 생성자 : 객체를 생성할때 필요한 무언가::\n",
        "    # 생성자의 이름은 __init__ 이다\n",
        "    def __init__(self,first,second):\n",
        "        self.first = first\n",
        "        self.second = second\n",
        "\n",
        "    def setdata(self,first,second):                         # 매서드 선언(self 필수)\n",
        "        self.first = first                                  # JABA에서의 this.first = first\n",
        "        self.second = second                                # JABA에서의 this.second = second\n",
        "\n",
        "    def add(self):                                          # 매서드 선언\n",
        "        result = self.first + self.second                   # first 와 second 를 더해서 result에 저장\n",
        "        return result                                       # result를 반환\n",
        "\n",
        "    def sub(self):                                          # 매서드 선언\n",
        "        result = self.first - self.second                   # first 와 second 를 빼서 result에 저장\n",
        "        return result                                       # result를 반환\n",
        "\n",
        "    def mul(self):                                          # 매서드 선언\n",
        "        result = self.first * self.second                   # first 와 second 를 곱해서 result에 저장\n",
        "        return result                                       # result를 반환\n",
        "\n",
        "    def div(self):                                          # 매서드 선언\n",
        "        result = self.first / self.second                   # first 와 second 를 나눠서 result에 저장\n",
        "        return result                                       # result를 반환"
      ],
      "metadata": {
        "id": "kPZr7elMITsb"
      },
      "execution_count": 21,
      "outputs": []
    },
    {
      "cell_type": "code",
      "source": [
        "d = FourCal(5,5)\n",
        "d.add()"
      ],
      "metadata": {
        "colab": {
          "base_uri": "https://localhost:8080/"
        },
        "id": "dMIFByqEITqc",
        "outputId": "d801e6b8-54d2-4af3-8d81-62c0d665c9ab"
      },
      "execution_count": 22,
      "outputs": [
        {
          "output_type": "execute_result",
          "data": {
            "text/plain": [
              "10"
            ]
          },
          "metadata": {},
          "execution_count": 22
        }
      ]
    },
    {
      "cell_type": "code",
      "source": [
        "d.setdata(3,5)\n",
        "d.add()"
      ],
      "metadata": {
        "colab": {
          "base_uri": "https://localhost:8080/"
        },
        "id": "ASM__varIToL",
        "outputId": "46f44c01-25b6-444f-a27f-0d44535e58d9"
      },
      "execution_count": 23,
      "outputs": [
        {
          "output_type": "execute_result",
          "data": {
            "text/plain": [
              "8"
            ]
          },
          "metadata": {},
          "execution_count": 23
        }
      ]
    },
    {
      "cell_type": "code",
      "source": [
        "# 상속 기능 : 부모가 만든 객체를 보완, 추가하는 기능\n",
        "\n",
        "class MoreFourCal(FourCal):             # 객채 생성시 ()안에 부모객체를 넣는다\n",
        "\n",
        "    def pow(self):\n",
        "        result = self.first ** self.second    # ** = 제곱\n",
        "        return result\n",
        "\n",
        "    # 오버라이딩 : 부모객체가 만든 매서드를 변경하여 사용한다.\n",
        "    def div(self):\n",
        "        if self.first ==0 or self.second == 0:\n",
        "            return 0\n",
        "        else:\n",
        "            return self.first / self.second"
      ],
      "metadata": {
        "id": "1c6wk9cJITlr"
      },
      "execution_count": 24,
      "outputs": []
    },
    {
      "cell_type": "code",
      "source": [
        "e = MoreFourCal(4,4)\n",
        "e.add()"
      ],
      "metadata": {
        "colab": {
          "base_uri": "https://localhost:8080/"
        },
        "id": "A6OCDO-PIdKD",
        "outputId": "cdb94ec0-b4d4-4a6c-a1ce-6d980bfd97a8"
      },
      "execution_count": 25,
      "outputs": [
        {
          "output_type": "execute_result",
          "data": {
            "text/plain": [
              "8"
            ]
          },
          "metadata": {},
          "execution_count": 25
        }
      ]
    },
    {
      "cell_type": "code",
      "source": [
        "e.pow()"
      ],
      "metadata": {
        "colab": {
          "base_uri": "https://localhost:8080/"
        },
        "id": "9qFEXFz_IdH7",
        "outputId": "b7d3a531-c9b7-43d5-9893-5aca376e6729"
      },
      "execution_count": 26,
      "outputs": [
        {
          "output_type": "execute_result",
          "data": {
            "text/plain": [
              "256"
            ]
          },
          "metadata": {},
          "execution_count": 26
        }
      ]
    },
    {
      "cell_type": "code",
      "source": [
        "f = MoreFourCal(4,0)\n",
        "f.div()"
      ],
      "metadata": {
        "colab": {
          "base_uri": "https://localhost:8080/"
        },
        "id": "Xehvpy8-IdFr",
        "outputId": "19571dd1-341d-4211-b8ee-0e2d2cd79feb"
      },
      "execution_count": 27,
      "outputs": [
        {
          "output_type": "execute_result",
          "data": {
            "text/plain": [
              "0"
            ]
          },
          "metadata": {},
          "execution_count": 27
        }
      ]
    },
    {
      "cell_type": "code",
      "execution_count": null,
      "metadata": {
        "id": "YEtVbdR8FcKm"
      },
      "outputs": [],
      "source": [
        "!python classexam.py"
      ]
    },
    {
      "cell_type": "code",
      "source": [],
      "metadata": {
        "id": "NkpUB7YoHBGc"
      },
      "execution_count": null,
      "outputs": []
    }
  ]
}