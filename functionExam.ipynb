{
  "nbformat": 4,
  "nbformat_minor": 0,
  "metadata": {
    "colab": {
      "provenance": [],
      "authorship_tag": "ABX9TyNHm3KgpcEswDD3LgcqP7vF",
      "include_colab_link": true
    },
    "kernelspec": {
      "name": "python3",
      "display_name": "Python 3"
    },
    "language_info": {
      "name": "python"
    }
  },
  "cells": [
    {
      "cell_type": "markdown",
      "metadata": {
        "id": "view-in-github",
        "colab_type": "text"
      },
      "source": [
        "<a href=\"https://colab.research.google.com/github/gyuheon1/pythonStudy24/blob/master/functionExam.ipynb\" target=\"_parent\"><img src=\"https://colab.research.google.com/assets/colab-badge.svg\" alt=\"Open In Colab\"/></a>"
      ]
    },
    {
      "cell_type": "markdown",
      "source": [
        "함수(function)\n",
        "\n",
        "함수는 단일 동작을 수행하는 블럭을 말한다.\n",
        "자바에서는 {} 블럭 단위로 수행하는데 파이썬은 인터프리터로 줄 단위 수행\n",
        "\n",
        "프로그램의 메모리 영역은 크게 3가지로 나누어짐\n",
        "\n",
        "\n",
        "\n",
        "*   스택영역 : 변수에 기본타입이나 참조타입을 연결\n",
        "*   힙영역   : 객체를 생성해서 주소를 가지고 있음\n",
        "*   메서드영역 : 동작들을 보관하고 있다가 호출되면 매개값(파라미터)과 처리후 리턴을 제공 (함수나 메서드를 보관)\n",
        "\n",
        "함수를 사용하는 이유\n",
        ": 반복적인 코드 발생을 최소화 하기 위해서 (CRUD)\n",
        "\n"
      ],
      "metadata": {
        "id": "r1igm_Jo8gxy"
      }
    },
    {
      "cell_type": "code",
      "execution_count": 3,
      "metadata": {
        "colab": {
          "base_uri": "https://localhost:8080/"
        },
        "id": "d5U4tduj8NME",
        "outputId": "9ad842c6-6c25-47fd-bb72-49aa49c6b837"
      },
      "outputs": [
        {
          "output_type": "stream",
          "name": "stdout",
          "text": [
            "이규현\n"
          ]
        }
      ],
      "source": [
        "# 파이썬 함수의 구조\n",
        "\n",
        "# def (define : 정의) 함수 생성\n",
        "# def 함수이름(매개변수) :\n",
        "#   실행문1\n",
        "#   실행문2\n",
        "#   ...\n",
        "\n",
        "\n",
        "def add(a, b):              # add 라는 함수를 정의(생성), 매개값은 2개를 받음\n",
        "    return a+b              # 매개값으로 받은 2개의 변수를 더함\n",
        "    # add() 종료\n",
        "\n",
        "print(add('이','규현'))\n",
        "\n"
      ]
    },
    {
      "cell_type": "code",
      "source": [
        "# *args : 매개값이 몇개인지 모를때 (1개 이상 ~)\n",
        "\n",
        "def add_many(*args):    # *args 매개값이 1개 이상!\n",
        "    result = 0          # 결과를 저장하는 변수\n",
        "    for i in args:      # *args는 리스트로 저장이 됨\n",
        "        result += i     # result = result + i\n",
        "    return result       # 결과 리턴\n",
        "\n",
        "print(add_many(1,2,3,4,5,6,7,8,9,))\n",
        "# args는 관례임(프로그래머들끼리의 약속)"
      ],
      "metadata": {
        "colab": {
          "base_uri": "https://localhost:8080/"
        },
        "id": "XtEoSLLeEeSE",
        "outputId": "af3cbddd-d176-49eb-ac91-59386aa24e65"
      },
      "execution_count": 4,
      "outputs": [
        {
          "output_type": "stream",
          "name": "stdout",
          "text": [
            "45\n"
          ]
        }
      ]
    },
    {
      "cell_type": "code",
      "source": [
        "test = add_many(9,8,7,6)\n",
        "print(test)"
      ],
      "metadata": {
        "colab": {
          "base_uri": "https://localhost:8080/"
        },
        "id": "ynNnJE7xK3L9",
        "outputId": "666750fc-bcd6-4530-d979-b4f339902dc2"
      },
      "execution_count": 5,
      "outputs": [
        {
          "output_type": "stream",
          "name": "stdout",
          "text": [
            "30\n"
          ]
        }
      ]
    },
    {
      "cell_type": "code",
      "source": [
        "def add_mul(choice, *args):\n",
        "    if choice == 'add':\n",
        "        result = 0\n",
        "        for i in args:\n",
        "            result += i\n",
        "    elif choice == 'mul':\n",
        "        result = 1\n",
        "        for i in args:\n",
        "            result *= i\n",
        "    return result"
      ],
      "metadata": {
        "id": "K7cpC9ETL3rU"
      },
      "execution_count": 7,
      "outputs": []
    },
    {
      "cell_type": "code",
      "source": [
        "result = add_mul('add', 1,2,3,4,5)\n",
        "print(result)"
      ],
      "metadata": {
        "colab": {
          "base_uri": "https://localhost:8080/"
        },
        "id": "eD-NHVU8M_Gk",
        "outputId": "b15cd1be-028d-453d-bf30-37eda8844292"
      },
      "execution_count": 8,
      "outputs": [
        {
          "output_type": "stream",
          "name": "stdout",
          "text": [
            "15\n"
          ]
        }
      ]
    },
    {
      "cell_type": "code",
      "source": [
        "result = add_mul('mul', 3,4,5)\n",
        "print(result)"
      ],
      "metadata": {
        "colab": {
          "base_uri": "https://localhost:8080/"
        },
        "id": "rYc0neZlNDyF",
        "outputId": "84f4c244-61d5-40a9-aa0e-1a5e120e04b5"
      },
      "execution_count": 9,
      "outputs": [
        {
          "output_type": "stream",
          "name": "stdout",
          "text": [
            "60\n"
          ]
        }
      ]
    },
    {
      "cell_type": "code",
      "source": [
        "# **kwargs : 키워드 매개변수 (딕셔너리)\n",
        "\n",
        "def print_kwargs(**kwargs):\n",
        "    print(kwargs)\n",
        "\n",
        "print_kwargs(kkw=312)"
      ],
      "metadata": {
        "colab": {
          "base_uri": "https://localhost:8080/"
        },
        "id": "e7CKZ91SNfpU",
        "outputId": "2344a28a-328d-4fd8-cbc6-274c435ca670"
      },
      "execution_count": 10,
      "outputs": [
        {
          "output_type": "stream",
          "name": "stdout",
          "text": [
            "{'kkw': 312}\n"
          ]
        }
      ]
    },
    {
      "cell_type": "code",
      "source": [
        "print_kwargs(id = 'lkh',pw = 'P@ssw0rd',phone = 9317, email = 'lky9450@gmail.com')"
      ],
      "metadata": {
        "colab": {
          "base_uri": "https://localhost:8080/"
        },
        "id": "xrTHp4j2PJUe",
        "outputId": "300a9eff-f576-44c9-adeb-5d6a5bb207cb"
      },
      "execution_count": 12,
      "outputs": [
        {
          "output_type": "stream",
          "name": "stdout",
          "text": [
            "{'id': 'lkh', 'pw': 'P@ssw0rd', 'phone': 9317, 'email': 'lky9450@gmail.com'}\n"
          ]
        }
      ]
    },
    {
      "cell_type": "code",
      "source": [
        "# 만약 리턴 값이 2개\n",
        "\n",
        "def add_and_mul(a,b):\n",
        "    return a+b, a*b, a-b\n",
        "\n",
        "a,b,c = add_and_mul(3,4)\n",
        "print(a)\n",
        "print(b)\n",
        "print(c)"
      ],
      "metadata": {
        "colab": {
          "base_uri": "https://localhost:8080/"
        },
        "id": "8xPYNXo2PivM",
        "outputId": "d3414a12-f828-4a3c-ef97-7babbbeab7ff"
      },
      "execution_count": 14,
      "outputs": [
        {
          "output_type": "stream",
          "name": "stdout",
          "text": [
            "7\n",
            "12\n",
            "-1\n"
          ]
        }
      ]
    },
    {
      "cell_type": "code",
      "source": [
        "def say_myself(name, old, man =True):\n",
        "    print(\"나의 이름은 %s 입니다.\" % name)\n",
        "    print(\"나이는 %d살 입니다.\" % old)\n",
        "    if man:\n",
        "        print(\"남자입니다.\")\n",
        "    else:\n",
        "        print(\"여자입니다.\")\n",
        "\n",
        "say_myself('이규현',24 , False)"
      ],
      "metadata": {
        "colab": {
          "base_uri": "https://localhost:8080/"
        },
        "id": "65lZuwMhQqy9",
        "outputId": "a70791b5-eeaf-4d38-9b24-fcec1e793423"
      },
      "execution_count": 16,
      "outputs": [
        {
          "output_type": "stream",
          "name": "stdout",
          "text": [
            "나의 이름은 이규현 입니다.\n",
            "나이는 24살 입니다.\n",
            "여자입니다.\n"
          ]
        }
      ]
    },
    {
      "cell_type": "code",
      "source": [
        "say_myself('이규현',24 )"
      ],
      "metadata": {
        "colab": {
          "base_uri": "https://localhost:8080/"
        },
        "id": "O5wVH2cIRwKW",
        "outputId": "b5dc6621-9941-4ff3-8253-129a441cca31"
      },
      "execution_count": 17,
      "outputs": [
        {
          "output_type": "stream",
          "name": "stdout",
          "text": [
            "나의 이름은 이규현 입니다.\n",
            "나이는 24살 입니다.\n",
            "남자입니다.\n"
          ]
        }
      ]
    },
    {
      "cell_type": "code",
      "source": [
        "# 람다식 : 인터페이스 형태의 실행문이 1개인 코드\n",
        "# 자바에서 람다식은 -> 사용하고 자바스크립트 =>\n",
        "# 파이썬의 람다식은\n",
        "# 변수(함수명) = lambda 매개변수 : 실행문\n",
        "add = lambda a,b : a+b\n",
        "result = add(3,4)\n",
        "print(result)"
      ],
      "metadata": {
        "colab": {
          "base_uri": "https://localhost:8080/"
        },
        "id": "Dof8YaSqSBM9",
        "outputId": "4d10d315-d33d-40e0-d00c-1e2f30e6a07e"
      },
      "execution_count": 19,
      "outputs": [
        {
          "output_type": "stream",
          "name": "stdout",
          "text": [
            "7\n"
          ]
        }
      ]
    },
    {
      "cell_type": "code",
      "source": [
        "def coffee(mode)\n",
        "    a = '관리자모드'\n",
        "    b = '영업모드'\n",
        "    c = '마감모드'\n",
        "    if mode == '관리자모드':\n",
        "        print(a)\n",
        "    elif mode == '영업모드':\n",
        "        print(b)\n",
        "    elif mode == '마감모드':\n",
        "        print(c)\n",
        ""
      ],
      "metadata": {
        "id": "0sY10MhjXJaf"
      },
      "execution_count": null,
      "outputs": []
    },
    {
      "cell_type": "code",
      "source": [
        "# 미션\n",
        "#자판기 코드를 함수로 리빌드 진행 시작!\n",
        "# 1. 음료 설정\n",
        "d = {}        # 음료 종류 저장용 딕셔너리\n",
        "a = True      # 관리자 모드\n",
        "b = True      # 영업 모드\n",
        "c = False     # 마감모드\n",
        "pay_d = {}    # 판매내역\n",
        "total_sales = 0  # 총 판매액\n",
        "while a :\n",
        "    drink_name = input(\"음료의 이름을 입력 해주세요 : \")     # 커피 이름 설정\n",
        "    drink_price = input(\"음료의 가격을 입력 해주세요 : \")    # 커피 가격 설정\n",
        "    if drink_price.isdigit() == False:\n",
        "        print(\"숫자만 입력해주세요\")\n",
        "        continue\n",
        "    else:\n",
        "        drink_price = int(drink_price)\n",
        "\n",
        "    count = input(\"음료의 개수를 입력 해주세요 : \")    # 커피 개수 설정\n",
        "    if count.isdigit() == False:\n",
        "        print(\"숫자만 입력해주세요\")\n",
        "        continue\n",
        "    else:\n",
        "        count = int(count)\n",
        "\n",
        "        d[drink_name] = [drink_price, count]                       # 커피 정보 딕셔너리에 저장\n",
        "\n",
        "\n",
        "    add = input(\"음료를 더 추가하시겠습니까? (Y/N) : \")\n",
        "    if add == 'Y'or add == 'y':                        # 커피 추가 여부\n",
        "        continue\n",
        "    elif add == 'N'or add == 'n':\n",
        "        a = False\n",
        "        break\n",
        "    else:\n",
        "        print(\"Y또는 N만 입력해주세요\")\n",
        "        while True:                                    # 커피 추가 여부 예외처리\n",
        "            add = input(\"음료를 더 추가하시겠습니까? (Y/N) : \")\n",
        "            if add == 'Y'or add == 'y':\n",
        "                break\n",
        "            elif add == 'N'or add == 'n':\n",
        "                a = False\n",
        "                break\n",
        "            else:\n",
        "                print(\"Y또는 N만 입력해주세요\")\n",
        "                continue\n",
        "\n",
        "\n",
        "print(\"===================\")\n",
        "print(\"영업을 시작 합니다.\")\n",
        "print(\"===================\")\n",
        "\n",
        "\n",
        "# 2. 판매\n",
        "\n",
        "\n",
        "while b:\n",
        "    for i in d:\n",
        "        print(f'음료명 :{i:^10s}음료가격 :{d[i][0]:^10d} 원 잔여수량 :{d[i][1]:^10d} 잔 ')\n",
        "    drink =\"\"\n",
        "    drink = str(input(\"드실 음료를 입력 해주세요 : \"))     # 음료명 지정\n",
        "    order_d =  {} # 주문내역 초기값\n",
        "    if drink in d:\n",
        "        drink_c = 0\n",
        "        drink_c = input(\"음료의 개수를 선택 해주세요 : \") # 음료개수 지정\n",
        "        if drink_c.isdigit() == False:\n",
        "            print(\"숫자만 입력해주세요\")\n",
        "            continue\n",
        "        else: drink_c = int(drink_c)\n",
        "\n",
        "        if d[drink][1] >= drink_c:                    # 음료 개수 확인\n",
        "            d[drink][1] -= drink_c                    # d[drink][1] = 음료 현재 개수 , drink_c = 선택한 음료 개수\n",
        "        else:\n",
        "            print(\"재고가 부족합니다.\")\n",
        "            continue\n",
        "        order_d[drink] = drink_c\n",
        "    else:\n",
        "        print(\"없는 음료입니다.\")\n",
        "        continue\n",
        "    drink_add = input(\"음료를 더 추가하시겠습니까? (Y/N) : \")\n",
        "    if drink_add == 'Y'or drink_add == 'y':           # 음료 추가 여부\n",
        "        continue\n",
        "    elif drink_add == 'N'or drink_add == 'n':\n",
        "        break\n",
        "\n",
        " # 3. 계산\n",
        "total=0          # 총 주문액\n",
        "pay_t = 0        # 총 결제금액\n",
        "for i in order_d:\n",
        "    print(f'음료명 :{i:^5s} 음료개수 :{order_d[i]:^5d} 잔  가격 : {order_d[i]* d[i][0]:^5d} 원 ')\n",
        "    if i in pay_d:\n",
        "        pay_d[i] += order_d[i]\n",
        "    else:\n",
        "        pay_d[i] = order_d[i]\n",
        "    total += order_d[i] * d[i][0]\n",
        "    total_sales += order_d[i]* d[i][0]\n",
        "    print(\"=========================================================\")\n",
        "print(f'총 가격 : {total} 원')\n",
        "while pay_t < total:\n",
        "    pay = (input(\"돈을 넣어주세요 : \"))\n",
        "    if pay.isdigit() == False:\n",
        "        print(\"숫자만 입력해주세요\")\n",
        "    else:\n",
        "        pay = int(pay)\n",
        "        pay_t += pay\n",
        "        if pay_t >= total:\n",
        "            print(f'거스름돈 : {pay_t - total} 원')\n",
        "\n",
        "            break\n",
        "        else:\n",
        "            print(f\"돈이 부족합니다.{total-pay_t}원 만큼 더 지불해주세요\")\n",
        "\n",
        "\n",
        "# 4. 마감\n",
        "\n",
        "for i in d:\n",
        "    coffee_count = 0\n",
        "    coffee_count += d[i][1]\n",
        "if coffee_count == 0:\n",
        "    c = True\n",
        "if c == True:\n",
        "    for i in pay_d:\n",
        "        total_sales += order_d[i]* d[i][0]\n",
        "    print(\"\"\"\n",
        "    ===================\n",
        "    판매를 종료합니다.\n",
        "    ===================\n",
        "    판매 내역\n",
        "    \"\"\")\n",
        "    for i in pay_d:\n",
        "        print(f\"\"\"\n",
        "        음료명 :{i:^10s}\n",
        "        음료가격 :{d[i][0]:^10d} 원 수량 :{pay_d[i]:^10d} 잔 = {pay_d[i]*d[i][0]} 원\n",
        "\n",
        "        \"\"\")\n",
        "\n",
        "    print(f\"총 판매 금액 : {total_sales} 원\")"
      ],
      "metadata": {
        "id": "th3OM4pATTeP"
      },
      "execution_count": null,
      "outputs": []
    }
  ]
}