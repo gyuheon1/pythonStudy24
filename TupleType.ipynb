{
  "nbformat": 4,
  "nbformat_minor": 0,
  "metadata": {
    "colab": {
      "provenance": [],
      "authorship_tag": "ABX9TyOLNTvMeEY4zji9LvUOT9Mp",
      "include_colab_link": true
    },
    "kernelspec": {
      "name": "python3",
      "display_name": "Python 3"
    },
    "language_info": {
      "name": "python"
    }
  },
  "cells": [
    {
      "cell_type": "markdown",
      "metadata": {
        "id": "view-in-github",
        "colab_type": "text"
      },
      "source": [
        "<a href=\"https://colab.research.google.com/github/gyuheon1/pythonStudy24/blob/master/TupleType.ipynb\" target=\"_parent\"><img src=\"https://colab.research.google.com/assets/colab-badge.svg\" alt=\"Open In Colab\"/></a>"
      ]
    },
    {
      "cell_type": "markdown",
      "source": [
        "튜플 자료형\n",
        "\n",
        "튜플은 리스트와 거의 유사함 차이점은 ()로 둘러쌈 리스트는 CRUD 가능하지만, 튜플은 CR만 가능함(읽기 전용)\n",
        "자바에 collections.unmodifiableList() 기능과 유사함\n",
        "\n",
        "\n",
        "https://velog.io/@clean01/Java-%EB%B3%80%EA%B2%BD%EC%9D%B4-%EB%B6%88%EA%B0%80%EB%8A%A5%ED%95%9C-Collection%EC%9D%84-%EB%A7%8C%EB%93%A4%EA%B8%B0-Immutable-Collection-Immutable-List"
      ],
      "metadata": {
        "id": "qaQT0G2iV63C"
      }
    },
    {
      "cell_type": "code",
      "execution_count": 1,
      "metadata": {
        "id": "t_gqiKXZVgcP"
      },
      "outputs": [],
      "source": [
        "# 튜플 생성하기\n",
        "\n",
        "t1 = ()       # 빈 객체\n",
        "t2 = (1,)     # 1개의 요소만 가질 때, 쉼표를 반드시 붙여야 됨.\n",
        "t3 = (1, 2, 3)\n",
        "t4 = 1, 2, 3      #() 생략 가능\n",
        "t5 = ('a', 'b', ('ab', 'cd')) # 2차원 튜플\n",
        "\n",
        "# 튜플과 리스트의 가장 큰 차이는 요소값을 변화시킬 수 잇는지에 대한 여부 (튜플은 불가능)\n",
        "# 프로그램이 실행 되는 동안 요솟값이 항상 변하지 않기를 바란다면 튜플을 사용할 것"
      ]
    },
    {
      "cell_type": "code",
      "source": [
        "t1 = (1, 2, 'a', 'b')\n",
        "del t1[0]"
      ],
      "metadata": {
        "colab": {
          "base_uri": "https://localhost:8080/",
          "height": 166
        },
        "id": "GmGxJecYYR-1",
        "outputId": "4892cd6e-0637-46e4-ad68-a4565161768a"
      },
      "execution_count": 2,
      "outputs": [
        {
          "output_type": "error",
          "ename": "TypeError",
          "evalue": "'tuple' object doesn't support item deletion",
          "traceback": [
            "\u001b[0;31m---------------------------------------------------------------------------\u001b[0m",
            "\u001b[0;31mTypeError\u001b[0m                                 Traceback (most recent call last)",
            "\u001b[0;32m<ipython-input-2-f66ca102cafc>\u001b[0m in \u001b[0;36m<cell line: 2>\u001b[0;34m()\u001b[0m\n\u001b[1;32m      1\u001b[0m \u001b[0mt1\u001b[0m \u001b[0;34m=\u001b[0m \u001b[0;34m(\u001b[0m\u001b[0;36m1\u001b[0m\u001b[0;34m,\u001b[0m \u001b[0;36m2\u001b[0m\u001b[0;34m,\u001b[0m \u001b[0;34m'a'\u001b[0m\u001b[0;34m,\u001b[0m \u001b[0;34m'b'\u001b[0m\u001b[0;34m)\u001b[0m\u001b[0;34m\u001b[0m\u001b[0;34m\u001b[0m\u001b[0m\n\u001b[0;32m----> 2\u001b[0;31m \u001b[0;32mdel\u001b[0m \u001b[0mt1\u001b[0m\u001b[0;34m[\u001b[0m\u001b[0;36m0\u001b[0m\u001b[0;34m]\u001b[0m\u001b[0;34m\u001b[0m\u001b[0;34m\u001b[0m\u001b[0m\n\u001b[0m",
            "\u001b[0;31mTypeError\u001b[0m: 'tuple' object doesn't support item deletion"
          ]
        }
      ]
    },
    {
      "cell_type": "code",
      "source": [],
      "metadata": {
        "id": "N4ReI_gtYX5C"
      },
      "execution_count": null,
      "outputs": []
    }
  ]
}