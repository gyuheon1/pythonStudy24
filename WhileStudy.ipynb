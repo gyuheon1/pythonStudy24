{
  "nbformat": 4,
  "nbformat_minor": 0,
  "metadata": {
    "colab": {
      "provenance": [],
      "authorship_tag": "ABX9TyOflL3JQ/pD8SxEOnDN3Dh2",
      "include_colab_link": true
    },
    "kernelspec": {
      "name": "python3",
      "display_name": "Python 3"
    },
    "language_info": {
      "name": "python"
    }
  },
  "cells": [
    {
      "cell_type": "markdown",
      "metadata": {
        "id": "view-in-github",
        "colab_type": "text"
      },
      "source": [
        "<a href=\"https://colab.research.google.com/github/gyuheon1/pythonStudy24/blob/master/WhileStudy.ipynb\" target=\"_parent\"><img src=\"https://colab.research.google.com/assets/colab-badge.svg\" alt=\"Open In Colab\"/></a>"
      ]
    },
    {
      "cell_type": "markdown",
      "source": [
        "while문\n",
        "\n",
        "while문은 문장을 반복해서 수행해야 되는 경우 활용 (반복문)\n",
        "\n",
        "반복문은 여러 데이터를 처리해야 하는 경우 사용함\n",
        "\n",
        "if문에서 성적처리를 할 때 1명에 데이터를 처리하지만 입력을 여러명 받아 더 큰 프로그램을 만들 수 있다\n",
        "\n",
        "반복문은 while문과 for문으로 활용되는데 while문은 max가 없는 반복문일 경우 사용되고 for문은 max가 있는 경우 사용 됨\n",
        "\n",
        "\n",
        "while 조건문 : 실행문1 실행문2 실행문3\n",
        "\n",
        "\n",
        "JAVA에서는 {}으로 실행문의 블럭을 만들지만 파이썬은 들여쓰기로 판단한다."
      ],
      "metadata": {
        "id": "tqO5boqOgKJi"
      }
    },
    {
      "cell_type": "code",
      "source": [
        "# 열번 찍어 안 넘어가는 나무 없다\n",
        "\n",
        "treeHit = 0\n",
        "while treeHit < 10:         # 조건 treeHit < 10 : treeHit 가 10보다 작으면\n",
        "    treeHit = treeHit +1    # 반복중에 1씩 증가\n",
        "    print(\"나무를 %d번 찍었습니다.\" % treeHit)\n",
        "    if treeHit == 10:       # 도끼로 찍은 나무의 타격 횟수 10번인지 판단\n",
        "        print(\"나무 넘어갑니다.\")\n",
        "    else:\n",
        "        print('난 멀쩡하지롱')"
      ],
      "metadata": {
        "colab": {
          "base_uri": "https://localhost:8080/"
        },
        "id": "VEzFNZYKhToD",
        "outputId": "978836b1-e754-4f3a-8adf-efc4c9d37b0e"
      },
      "execution_count": null,
      "outputs": [
        {
          "output_type": "stream",
          "name": "stdout",
          "text": [
            "나무를 1번 찍었습니다.\n",
            "난 멀쩡하지롱\n",
            "나무를 2번 찍었습니다.\n",
            "난 멀쩡하지롱\n",
            "나무를 3번 찍었습니다.\n",
            "난 멀쩡하지롱\n",
            "나무를 4번 찍었습니다.\n",
            "난 멀쩡하지롱\n",
            "나무를 5번 찍었습니다.\n",
            "난 멀쩡하지롱\n",
            "나무를 6번 찍었습니다.\n",
            "난 멀쩡하지롱\n",
            "나무를 7번 찍었습니다.\n",
            "난 멀쩡하지롱\n",
            "나무를 8번 찍었습니다.\n",
            "난 멀쩡하지롱\n",
            "나무를 9번 찍었습니다.\n",
            "난 멀쩡하지롱\n",
            "나무를 10번 찍었습니다.\n",
            "나무 넘어갑니다.\n"
          ]
        }
      ]
    },
    {
      "cell_type": "code",
      "source": [
        "# 콘솔에서 프로그램 만들어 보기\n",
        "prompt = \"\"\"\n",
        "1. 학생가입\n",
        "2. 성적입력\n",
        "3. 성적출력\n",
        "4. Quit\n",
        "\n",
        "Enter number :\n",
        "\"\"\"\n",
        "\n",
        "number = 0                  # 키보드로 전달되는 변수 초기값\n",
        "while number != 4:          # 4가 아닐때까지 반복문 -> 4입력시 while문 종료\n",
        "    print(prompt)           # 4가 아닐 때 prompt 출력\n",
        "    number = int(input())   # 반복중에 입력받을 프롬프트 비교 값\n",
        "    if number == 1:\n",
        "        print('학생가입')\n",
        "    elif number == 2:\n",
        "        print('성적입력')\n",
        "    elif number == 3:\n",
        "        print('성적출력')\n"
      ],
      "metadata": {
        "colab": {
          "base_uri": "https://localhost:8080/"
        },
        "id": "5P2VioEjizIK",
        "outputId": "060f82ab-62db-484b-bd85-6b661ee45c13"
      },
      "execution_count": null,
      "outputs": [
        {
          "name": "stdout",
          "output_type": "stream",
          "text": [
            "\n",
            "1. 학생가입\n",
            "2. 성적입력\n",
            "3. 성적출력\n",
            "4. Quit\n",
            "\n",
            "Enter number : \n",
            "\n",
            "3\n",
            "성적출력\n",
            "\n",
            "1. 학생가입\n",
            "2. 성적입력\n",
            "3. 성적출력\n",
            "4. Quit\n",
            "\n",
            "Enter number : \n",
            "\n",
            "4\n"
          ]
        }
      ]
    },
    {
      "cell_type": "code",
      "source": [
        "# 커피 자판기 프로그램\n",
        "\n",
        "coffee = 10      # 커피는 총 10잔이 준비 되어 있음\n",
        "money = 300      # 현재 입금 된 금액은 300원\n",
        "while money:\n",
        "    print(\"돈을 받았으니 커피를 줍니다.\")\n",
        "    coffee -= 1  # 1잔씩 소모\n",
        "    print(\"남은 커피의 양은 %d개 입니다.\" % coffee)\n",
        "    if coffee == 0:\n",
        "        print(\"커피가 다 떨어졌습니다. 판매를 중지 합니다.\")\n",
        "        break"
      ],
      "metadata": {
        "colab": {
          "base_uri": "https://localhost:8080/"
        },
        "id": "D1zuge99jq6L",
        "outputId": "959a19c5-0c21-4362-d350-b2e771c57c3a"
      },
      "execution_count": null,
      "outputs": [
        {
          "output_type": "stream",
          "name": "stdout",
          "text": [
            "돈을 받았으니 커피를 줍니다.\n",
            "남은 커피의 양은 9개 입니다.\n",
            "돈을 받았으니 커피를 줍니다.\n",
            "남은 커피의 양은 8개 입니다.\n",
            "돈을 받았으니 커피를 줍니다.\n",
            "남은 커피의 양은 7개 입니다.\n",
            "돈을 받았으니 커피를 줍니다.\n",
            "남은 커피의 양은 6개 입니다.\n",
            "돈을 받았으니 커피를 줍니다.\n",
            "남은 커피의 양은 5개 입니다.\n",
            "돈을 받았으니 커피를 줍니다.\n",
            "남은 커피의 양은 4개 입니다.\n",
            "돈을 받았으니 커피를 줍니다.\n",
            "남은 커피의 양은 3개 입니다.\n",
            "돈을 받았으니 커피를 줍니다.\n",
            "남은 커피의 양은 2개 입니다.\n",
            "돈을 받았으니 커피를 줍니다.\n",
            "남은 커피의 양은 1개 입니다.\n",
            "돈을 받았으니 커피를 줍니다.\n",
            "남은 커피의 양은 0개 입니다.\n",
            "커피가 다 떨어졌습니다. 판매를 중지 합니다.\n"
          ]
        }
      ]
    },
    {
      "cell_type": "code",
      "source": [
        "    # 미션\n",
        "# 관리자가 커피 가격과 커피명을 정하고 개수를 입력한다.\n",
        "# 소비자가 커피를 구매하는데 잔돈이 나와야 함\n",
        "# 판매 종료 후 관리자가 커피 판매한 총액을 파악해야 함"
      ],
      "metadata": {
        "id": "GNOGZ-_Mm3f0"
      },
      "execution_count": 11,
      "outputs": []
    },
    {
      "cell_type": "code",
      "source": [
        "# 1. 음료 설정\n",
        "d = {}        #음료 종류 저장용 딕셔너리\n",
        "a = True\n",
        "order_d =  {} # 주문내역 초기값\n",
        "drink_kind = [] #음료 종류 리스트 초기값\n",
        "while a :\n",
        "    name = input(\"음료의 이름을 입력 해주세요 : \")     # 커피 이름 설정\n",
        "    price = input(\"음료의 가격을 입력 해주세요 : \")    # 커피 가격 설정\n",
        "    if price.isdigit() == False:\n",
        "        print(\"숫자만 입력해주세요\")\n",
        "        continue\n",
        "    else:\n",
        "        price = int(price)\n",
        "\n",
        "    count = input(\"음료의 개수를 입력 해주세요 : \")    # 커피 개수 설정\n",
        "    if count.isdigit() == False:\n",
        "        print(\"숫자만 입력해주세요\")\n",
        "        continue\n",
        "    else:\n",
        "        count = int(count)\n",
        "\n",
        "        d[name] = [price, count]                       # 커피 정보 딕셔너리에 저장\n",
        "\n",
        "\n",
        "    add = input(\"음료를 더 추가하시겠습니까? (Y/N) : \")\n",
        "    if add == 'Y'or add == 'y':                        # 커피 추가 여부\n",
        "        continue\n",
        "    elif add == 'N'or add == 'n':\n",
        "        a = False\n",
        "        break\n",
        "    else:\n",
        "        print(\"Y또는 N만 입력해주세요\")\n",
        "        while True:                                    # 커피 추가 여부 예외처리\n",
        "            add = input(\"음료를 더 추가하시겠습니까? (Y/N) : \")\n",
        "            if add == 'Y'or add == 'y':\n",
        "                break\n",
        "            elif add == 'N'or add == 'n':\n",
        "                a = False\n",
        "                break\n",
        "            else:\n",
        "                print(\"Y또는 N만 입력해주세요\")\n",
        "                continue\n",
        "\n",
        "for i in d:\n",
        "    drink_kind.append(i)\n",
        "\n",
        "print(\"===================\")\n",
        "print(\"영업을 시작 합니다.\")\n",
        "print(\"===================\")\n",
        "\n"
      ],
      "metadata": {
        "colab": {
          "base_uri": "https://localhost:8080/"
        },
        "id": "pR2nEbMICBFP",
        "outputId": "c710f57c-2e5e-41ca-9e0c-597c324cb71c"
      },
      "execution_count": 59,
      "outputs": [
        {
          "output_type": "stream",
          "name": "stdout",
          "text": [
            "음료의 이름을 입력 해주세요 : 아메리카노\n",
            "음료의 가격을 입력 해주세요 : 1000\n",
            "음료의 개수를 입력 해주세요 : 1000\n",
            "음료를 더 추가하시겠습니까? (Y/N) : y\n",
            "음료의 이름을 입력 해주세요 : 라떼\n",
            "음료의 가격을 입력 해주세요 : 2000\n",
            "음료의 개수를 입력 해주세요 : 2000\n",
            "음료를 더 추가하시겠습니까? (Y/N) : y\n",
            "음료의 이름을 입력 해주세요 : 아이스티\n",
            "음료의 가격을 입력 해주세요 : 3000\n",
            "음료의 개수를 입력 해주세요 : 3000\n",
            "음료를 더 추가하시겠습니까? (Y/N) : n\n",
            "===================\n",
            "영업을 시작 합니다.\n",
            "===================\n"
          ]
        }
      ]
    },
    {
      "cell_type": "code",
      "source": [
        "print(drink_kind)\n",
        "print(d)"
      ],
      "metadata": {
        "colab": {
          "base_uri": "https://localhost:8080/"
        },
        "id": "620dnV1jDD6H",
        "outputId": "801809c8-5d9b-46bf-ccb5-7a007f104e90"
      },
      "execution_count": 64,
      "outputs": [
        {
          "output_type": "stream",
          "name": "stdout",
          "text": [
            "['아메리카노', '라떼', '아이스티']\n",
            "{'아메리카노': [1000, 1000], '라떼': [2000, 2000], '아이스티': [3000, 3000]}\n"
          ]
        }
      ]
    },
    {
      "cell_type": "code",
      "source": [
        "print(d)"
      ],
      "metadata": {
        "colab": {
          "base_uri": "https://localhost:8080/"
        },
        "id": "X6MZXMR8PXkC",
        "outputId": "cc301b29-557b-47bc-e0b6-1c5638f109ad"
      },
      "execution_count": 76,
      "outputs": [
        {
          "output_type": "stream",
          "name": "stdout",
          "text": [
            "{'아메리카노': [1000, 1000], '라떼': [2000, 2000], '아이스티': [3000, 3000]}\n"
          ]
        }
      ]
    },
    {
      "cell_type": "code",
      "source": [],
      "metadata": {
        "colab": {
          "base_uri": "https://localhost:8080/",
          "height": 166
        },
        "id": "BAWcBRJkL-ZZ",
        "outputId": "75b6e680-ebc1-4d06-b45b-9926454fb80a"
      },
      "execution_count": 65,
      "outputs": [
        {
          "output_type": "error",
          "ename": "KeyError",
          "evalue": "0",
          "traceback": [
            "\u001b[0;31m---------------------------------------------------------------------------\u001b[0m",
            "\u001b[0;31mKeyError\u001b[0m                                  Traceback (most recent call last)",
            "\u001b[0;32m<ipython-input-65-b3396f6a21c6>\u001b[0m in \u001b[0;36m<cell line: 1>\u001b[0;34m()\u001b[0m\n\u001b[1;32m      1\u001b[0m \u001b[0;32mfor\u001b[0m \u001b[0mi\u001b[0m \u001b[0;32min\u001b[0m \u001b[0md\u001b[0m\u001b[0;34m:\u001b[0m\u001b[0;34m\u001b[0m\u001b[0;34m\u001b[0m\u001b[0m\n\u001b[0;32m----> 2\u001b[0;31m     \u001b[0mprint\u001b[0m\u001b[0;34m(\u001b[0m\u001b[0;34mf\"품명  %s  가격  %d 원  잔여  %d 개\"\u001b[0m \u001b[0;34m%\u001b[0m \u001b[0;34m(\u001b[0m\u001b[0mi\u001b[0m\u001b[0;34m,\u001b[0m \u001b[0md\u001b[0m\u001b[0;34m[\u001b[0m\u001b[0;36m0\u001b[0m\u001b[0;34m]\u001b[0m\u001b[0;34m,\u001b[0m \u001b[0md\u001b[0m\u001b[0;34m[\u001b[0m\u001b[0;36m1\u001b[0m\u001b[0;34m]\u001b[0m\u001b[0;34m)\u001b[0m\u001b[0;34m)\u001b[0m\u001b[0;34m\u001b[0m\u001b[0;34m\u001b[0m\u001b[0m\n\u001b[0m",
            "\u001b[0;31mKeyError\u001b[0m: 0"
          ]
        }
      ]
    },
    {
      "cell_type": "code",
      "source": [
        " # 2. 판매\n",
        "\n",
        "\n",
        "while True:\n",
        "    for i in drink_kind:\n",
        "        print(f'')\n",
        "    drink =\"\"\n",
        "    drink = str(input(\"드실 음료를 입력 해주세요 : \"))     # 음료명 지정\n",
        "    if drink in d:\n",
        "        drink_c = 0\n",
        "        drink_c = input(\"음료의 개수를 선택 해주세요 : \") # 음료개수 지정\n",
        "        if drink_c.isdigit() == False:\n",
        "            print(\"숫자만 입력해주세요\")\n",
        "            continue\n",
        "        else: drink_c = int(drink_c)\n",
        "\n",
        "        if d[drink][1] >= drink_c:                    # 음료 개수 확인\n",
        "            d[drink][1] -= drink_c                    # d[drink][1] = 음료 현재 개수 , drink_c = 선택한 음료 개수\n",
        "        else:\n",
        "            print(\"재고가 부족합니다.\")\n",
        "            continue\n",
        "        order_d[drink] = drink_c\n",
        "    else:\n",
        "        print(\"없는 음료입니다.\")\n",
        "        continue\n",
        "    drink_add = input(\"음료를 더 추가하시겠습니까? (Y/N) : \")\n",
        "    if drink_add == 'Y'or drink_add == 'y':           # 음료 추가 여부\n",
        "        continue\n",
        "    elif drink_add == 'N'or drink_add == 'n':\n",
        "        break\n",
        ""
      ],
      "metadata": {
        "colab": {
          "base_uri": "https://localhost:8080/"
        },
        "id": "Dh43uK6xCRLv",
        "outputId": "72508902-ff27-4bf2-92c9-a8c6c414db3e"
      },
      "execution_count": 46,
      "outputs": [
        {
          "name": "stdout",
          "output_type": "stream",
          "text": [
            "드실 음료를 입력 해주세요 : 아메리카노\n",
            "음료의 개수를 선택 해주세요 : 1\n",
            "음료를 더 추가하시겠습니까? (Y/N) : y\n",
            "드실 음료를 입력 해주세요 : 라떼\n",
            "음료의 개수를 선택 해주세요 : 0\n",
            "음료를 더 추가하시겠습니까? (Y/N) : n\n"
          ]
        }
      ]
    },
    {
      "cell_type": "code",
      "source": [
        "for i in range():\n",
        "        print(i )"
      ],
      "metadata": {
        "colab": {
          "base_uri": "https://localhost:8080/"
        },
        "id": "9KkvmWc0JZQg",
        "outputId": "bc24b9b9-466e-4e64-9fd0-b5229623b700"
      },
      "execution_count": 52,
      "outputs": [
        {
          "output_type": "stream",
          "name": "stdout",
          "text": [
            "0\n",
            "1\n",
            "2\n",
            "3\n",
            "4\n"
          ]
        }
      ]
    },
    {
      "cell_type": "code",
      "source": [
        "# 3. 계산\n"
      ],
      "metadata": {
        "id": "kHnNOY4PCSrf"
      },
      "execution_count": null,
      "outputs": []
    }
  ]
}