{
  "nbformat": 4,
  "nbformat_minor": 0,
  "metadata": {
    "colab": {
      "provenance": [],
      "authorship_tag": "ABX9TyNuzbd7Rex+Dy+gazaCMkoG",
      "include_colab_link": true
    },
    "kernelspec": {
      "name": "python3",
      "display_name": "Python 3"
    },
    "language_info": {
      "name": "python"
    }
  },
  "cells": [
    {
      "cell_type": "markdown",
      "metadata": {
        "id": "view-in-github",
        "colab_type": "text"
      },
      "source": [
        "<a href=\"https://colab.research.google.com/github/gyuheon1/pythonStudy24/blob/master/forExam.ipynb\" target=\"_parent\"><img src=\"https://colab.research.google.com/assets/colab-badge.svg\" alt=\"Open In Colab\"/></a>"
      ]
    },
    {
      "cell_type": "markdown",
      "source": [
        "for문 연습\n",
        "\n",
        "for문은 while와 같은 반복문으로 차이점은 맥스의 존재 유무이다.\n",
        "\n",
        "for문은 구구단과 같이 0라는 max값이 있을 때 사용\n",
        "\n",
        "while은 max가 없지만 종료되는 시점을 만들어 제공해야함(강제종료 = ctel +c)\n",
        "\n",
        "for 변수 in 리스트 | 튜플 | 문자열 : 실행문1 실행문2\n",
        "\n",
        "자바의 향상 for문 | forEach문과 같다."
      ],
      "metadata": {
        "id": "6tCKLsAAsVqz"
      }
    },
    {
      "cell_type": "code",
      "execution_count": 2,
      "metadata": {
        "colab": {
          "base_uri": "https://localhost:8080/"
        },
        "id": "4b14vtMTrOmt",
        "outputId": "59c78ccb-a493-47f3-bfc7-5344c4bb5cff"
      },
      "outputs": [
        {
          "output_type": "stream",
          "name": "stdout",
          "text": [
            "one\n",
            "two\n",
            "three\n"
          ]
        }
      ],
      "source": [
        "# 전형적인 for문\n",
        "\n",
        "test_list = ['one','two','three']\n",
        "for i in test_list:\n",
        "    print(i)"
      ]
    },
    {
      "cell_type": "code",
      "source": [
        "# 다양한 for문 활용\n",
        "\n",
        "a = [(1,2),(3,4),(5,6)]\n",
        "\n",
        "for (first,last) in a:\n",
        "    print(first+last)"
      ],
      "metadata": {
        "colab": {
          "base_uri": "https://localhost:8080/"
        },
        "id": "i3sWIpmOs-Jr",
        "outputId": "329734b3-410c-4d23-d9c9-f15470cdbb91"
      },
      "execution_count": 3,
      "outputs": [
        {
          "output_type": "stream",
          "name": "stdout",
          "text": [
            "3\n",
            "7\n",
            "11\n"
          ]
        }
      ]
    },
    {
      "cell_type": "code",
      "source": [
        "# 총 5명의 학생이 시험을 보았는데 시험 점수가 60점 이상이면 합격이고 그렇지 않으면 불합격이다.\n",
        "\n",
        "marks = [90,25,67,45,80]            # 학생별 시험점수 5명\n",
        "number = 0                          # 출력시 학생의 번호지정\n",
        "for mark in marks:                  # 각 학생의 점수를 받아온다.\n",
        "    number = number +1              # 각 학생의 번호\n",
        "    if mark >= 60:                  # 합격 불학격의 기준\n",
        "        print(\"%d번 학생은 합격입니다.\" % number)\n",
        "    else:\n",
        "        print(\"%d번 학생은 불합격입니다.\" % number)"
      ],
      "metadata": {
        "colab": {
          "base_uri": "https://localhost:8080/"
        },
        "id": "nIrOL77HtJ9L",
        "outputId": "fc8a449e-8f9b-4503-d17e-89d943f6f577"
      },
      "execution_count": 4,
      "outputs": [
        {
          "output_type": "stream",
          "name": "stdout",
          "text": [
            "1번 학생은 합격입니다.\n",
            "2번 학생은 불합격입니다.\n",
            "3번 학생은 합격입니다.\n",
            "4번 학생은 불합격입니다.\n",
            "5번 학생은 합격입니다.\n"
          ]
        }
      ]
    },
    {
      "cell_type": "code",
      "source": [
        "# for+continue\n",
        "\n",
        "marks = [90,25,67,45,80]        # 학생들의 리스트\n",
        "number = 0                      # 학생 번호\n",
        "for mark in marks:              # 리스트의 반복\n",
        "    number = number +1          # 학생번호 증감\n",
        "    if mark < 60:               # 점수가 60보다 작으면\n",
        "        continue                # continue 다음 반복을 시행한다 (다시 for문으로 올라가라)\n",
        "    print(\"%d번 학생 축하합니다. 합격입니다.\" % number)     # 60점 이상일때의 처리문"
      ],
      "metadata": {
        "colab": {
          "base_uri": "https://localhost:8080/"
        },
        "id": "sxco1x-ftpxk",
        "outputId": "ef7eb19d-e33e-451c-bfbb-b659e74d702d"
      },
      "execution_count": 5,
      "outputs": [
        {
          "output_type": "stream",
          "name": "stdout",
          "text": [
            "1번 학생 축하합니다. 합격입니다.\n",
            "3번 학생 축하합니다. 합격입니다.\n",
            "5번 학생 축하합니다. 합격입니다.\n"
          ]
        }
      ]
    },
    {
      "cell_type": "code",
      "source": [
        "# for문과 같이 자주 쓰리는 range()\n",
        "\n",
        "a = range(10)   # 0부터 10미만 숫자를 포함하는 객체를 만들어줌\n",
        "print(a)        # (이상 미만)\n",
        "for i in a:\n",
        "    print(i)"
      ],
      "metadata": {
        "colab": {
          "base_uri": "https://localhost:8080/"
        },
        "id": "5FB71KpuuE0W",
        "outputId": "7fd77f68-ac87-4147-c89b-066bc9ce507e"
      },
      "execution_count": 6,
      "outputs": [
        {
          "output_type": "stream",
          "name": "stdout",
          "text": [
            "range(0, 10)\n",
            "0\n",
            "1\n",
            "2\n",
            "3\n",
            "4\n",
            "5\n",
            "6\n",
            "7\n",
            "8\n",
            "9\n"
          ]
        }
      ]
    },
    {
      "cell_type": "code",
      "source": [
        "for i in range(1,11):       # range(1,11)이면 1부터 11미만까지의 수를 포함,하는 객체를 만든다.\n",
        "    print(i)"
      ],
      "metadata": {
        "colab": {
          "base_uri": "https://localhost:8080/"
        },
        "id": "oJlI2EmXuVmK",
        "outputId": "962f3135-a640-48d2-f150-183db0e2ccbf"
      },
      "execution_count": 7,
      "outputs": [
        {
          "output_type": "stream",
          "name": "stdout",
          "text": [
            "1\n",
            "2\n",
            "3\n",
            "4\n",
            "5\n",
            "6\n",
            "7\n",
            "8\n",
            "9\n",
            "10\n"
          ]
        }
      ]
    },
    {
      "cell_type": "code",
      "source": [
        "marks =[90,25,67,45,80]\n",
        "for number in range(len(marks)):\n",
        "    if marks[number] < 60:\n",
        "        continue\n",
        "    print(\"%d번 학생 축하합니다. 합격입니다.\" % (number+1))"
      ],
      "metadata": {
        "colab": {
          "base_uri": "https://localhost:8080/"
        },
        "id": "hlTlOZKzug9U",
        "outputId": "869f4070-b329-4eaa-fc2b-d85860a2d062"
      },
      "execution_count": 8,
      "outputs": [
        {
          "output_type": "stream",
          "name": "stdout",
          "text": [
            "1번 학생 축하합니다. 합격입니다.\n",
            "3번 학생 축하합니다. 합격입니다.\n",
            "5번 학생 축하합니다. 합격입니다.\n"
          ]
        }
      ]
    },
    {
      "cell_type": "code",
      "source": [
        "# 구구단을 만들어 보자 2 * 1 = 2 ~ 9 * 9 = 81\n",
        "# 다중 for문을 활용하여 만들자\n",
        "\n",
        "for i in range(2,10):               # 2~9단\n",
        "    for j in range(1,10):           # 각 단에 곱해지는 수  1~9\n",
        "        print(i*j, end=\" \")         # 각 단마다 곱하고 출력 end 파라미터는 기본인 \\n을 대신하여 띄어쓰기로\n",
        "    print('')                       # 줄바꿈의 용도"
      ],
      "metadata": {
        "colab": {
          "base_uri": "https://localhost:8080/"
        },
        "id": "M0HnOGp3ungK",
        "outputId": "2132b4d0-a7cb-4e47-8ab2-84a3d7b1114e"
      },
      "execution_count": 11,
      "outputs": [
        {
          "output_type": "stream",
          "name": "stdout",
          "text": [
            "2 4 6 8 10 12 14 16 18 \n",
            "3 6 9 12 15 18 21 24 27 \n",
            "4 8 12 16 20 24 28 32 36 \n",
            "5 10 15 20 25 30 35 40 45 \n",
            "6 12 18 24 30 36 42 48 54 \n",
            "7 14 21 28 35 42 49 56 63 \n",
            "8 16 24 32 40 48 56 64 72 \n",
            "9 18 27 36 45 54 63 72 81 \n"
          ]
        }
      ]
    },
    {
      "cell_type": "code",
      "source": [
        "# list 컴프리헨션 -> 결과를 리스트로 저장하는 기법\n",
        "\n",
        "# list 컴프리헨션을 사용하지 않는 방법\n",
        "a =[1, 2, 3, 4]             # 입력 리스트 값\n",
        "result = []                 # 출력 리스트 값\n",
        "for num in a:               # 입력 리스트의 값을 하나씩 불러온다\n",
        "    result.append(num*3)    # 3을 곱한 값을 출력 리스트에 추가한다\n",
        "print(result)               # 출력 리스트 확인하기"
      ],
      "metadata": {
        "colab": {
          "base_uri": "https://localhost:8080/"
        },
        "id": "2nhhdqbEvCUc",
        "outputId": "fe23de50-f632-4d9b-cc44-754abeff51d7"
      },
      "execution_count": 12,
      "outputs": [
        {
          "output_type": "stream",
          "name": "stdout",
          "text": [
            "[3, 6, 9, 12]\n"
          ]
        }
      ]
    },
    {
      "cell_type": "code",
      "source": [
        "### 디버깅 할 때 오류를 찾기 위해서는 미리 프린트를 for문안에 넣어주어 결과값을 계속 확인하며 지나는 것이 좋다"
      ],
      "metadata": {
        "id": "kC5KtCrpvysW"
      },
      "execution_count": 13,
      "outputs": []
    },
    {
      "cell_type": "code",
      "source": [
        "a = [1,2,3,4]\n",
        "                                            # for 변수 in 리스트 | 튜플 | 문자열 : 실행문 람다식으로는\n",
        "                                            # [실행문 for 변수 in 리스트 | 튜플 | 문자열]\n",
        "result = [num * 3 for num in a]             # 변수 = [실행문 for 변수 in 리스트 | 튜플 | 문자열] 변수에 리스트 추가하기\n",
        "print(result)"
      ],
      "metadata": {
        "colab": {
          "base_uri": "https://localhost:8080/"
        },
        "id": "iXzUDblgwMRU",
        "outputId": "46f3fa55-2478-46a4-abb9-a7d0fe2c78ee"
      },
      "execution_count": 14,
      "outputs": [
        {
          "output_type": "stream",
          "name": "stdout",
          "text": [
            "[3, 6, 9, 12]\n"
          ]
        }
      ]
    },
    {
      "cell_type": "code",
      "source": [
        "# 짝수만 3을 곱해서 리스트에 추가하기\n",
        "\n",
        "a = [1,2,3,4,5,6]\n",
        "result = [num *3 for num in a if num % 2 == 0]\n",
        "# 결과배열 = 실행문 for 변수 in 리스트 | 튜플 | 문자열 | if 조건\n",
        "print(result)"
      ],
      "metadata": {
        "colab": {
          "base_uri": "https://localhost:8080/"
        },
        "id": "BfFz4Yulwzs0",
        "outputId": "efa3d448-6940-4f94-f0c8-21f51bf0acc4"
      },
      "execution_count": 15,
      "outputs": [
        {
          "output_type": "stream",
          "name": "stdout",
          "text": [
            "[6, 12, 18]\n"
          ]
        }
      ]
    },
    {
      "cell_type": "code",
      "source": [
        "# 짝수만 3을 곱해서 리스트에 추가하기\n",
        "\n",
        "a = [1,2,3,4,5,6]\n",
        "result = []\n",
        "for i in a:\n",
        "    if i % 2 == 0:\n",
        "        result.append(i*3)\n",
        "print(result)"
      ],
      "metadata": {
        "colab": {
          "base_uri": "https://localhost:8080/"
        },
        "id": "6zGooDmrxGWc",
        "outputId": "9eca61d0-5166-4b09-ff5a-b9fe32369380"
      },
      "execution_count": 16,
      "outputs": [
        {
          "output_type": "stream",
          "name": "stdout",
          "text": [
            "[6, 12, 18]\n"
          ]
        }
      ]
    },
    {
      "cell_type": "code",
      "source": [
        "# 미션 전에 만든 커피 자판기를 리스트화 해서 for문으로 구현\n",
        "\n",
        "# 커피종류가 5개 (커피명,수량,단가)\n",
        "# 사용자 커피 반복 구매\n",
        "# 관리자가 판매종료후 통계"
      ],
      "metadata": {
        "id": "o6pYUoCbxPbL"
      },
      "execution_count": null,
      "outputs": []
    }
  ]
}