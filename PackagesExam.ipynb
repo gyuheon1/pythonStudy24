{
  "nbformat": 4,
  "nbformat_minor": 0,
  "metadata": {
    "colab": {
      "provenance": [],
      "authorship_tag": "ABX9TyPzWgvv6Vd+kZDPMF/OjjD3",
      "include_colab_link": true
    },
    "kernelspec": {
      "name": "python3",
      "display_name": "Python 3"
    },
    "language_info": {
      "name": "python"
    }
  },
  "cells": [
    {
      "cell_type": "markdown",
      "metadata": {
        "id": "view-in-github",
        "colab_type": "text"
      },
      "source": [
        "<a href=\"https://colab.research.google.com/github/gyuheon1/pythonStudy24/blob/master/PackagesExam.ipynb\" target=\"_parent\"><img src=\"https://colab.research.google.com/assets/colab-badge.svg\" alt=\"Open In Colab\"/></a>"
      ]
    },
    {
      "cell_type": "markdown",
      "source": [
        "패키지(packages)란\n",
        "\n",
        "관련 있는 모듈의 집합을 말한다. 패키지는 파이썬 모듈을 계층적(디렉터리 구조)으로 관리할 수 있게 해 준다."
      ],
      "metadata": {
        "id": "wOIi1JUAoy8D"
      }
    },
    {
      "cell_type": "code",
      "execution_count": null,
      "metadata": {
        "id": "-IoImdrYopp0"
      },
      "outputs": [],
      "source": [
        "예)\n",
        "\n",
        "game/\n",
        "    __init__.py\n",
        "    sound/\n",
        "        __init__.py\n",
        "        echo.py\n",
        "        wav.py\n",
        "    graphic/\n",
        "        __init__.py\n",
        "        screen.py\n",
        "        render.py\n",
        "    play/\n",
        "        __init__.py\n",
        "        run.py\n",
        "        test.py"
      ]
    },
    {
      "cell_type": "code",
      "source": [
        "C:/doit/game/__init__.py                # game 디렉토리 안에 초기화 파일\n",
        "C:/doit/game/sound/__init__.py          # game/sound 안에 초기화 파일\n",
        "C:/doit/game/sound/echo.py              # game/sound 안에 echo\n",
        "C:/doit/game/graphic/__init__.py        # game/graphic 안에 초기화\n",
        "C:/doit/game/graphic/render.py          # game/graphic 안에 render"
      ],
      "metadata": {
        "id": "vgD8hJjWpIOC"
      },
      "execution_count": null,
      "outputs": []
    },
    {
      "cell_type": "code",
      "source": [
        "# echo.py\n",
        "def echo_test():\n",
        "    print(\"echo\")"
      ],
      "metadata": {
        "id": "J03GidfzpiVb"
      },
      "execution_count": null,
      "outputs": []
    },
    {
      "cell_type": "code",
      "source": [
        "# render.py\n",
        "def render_test():\n",
        "    print(\"render\")"
      ],
      "metadata": {
        "id": "w4JjzU-KpuOp"
      },
      "execution_count": null,
      "outputs": []
    },
    {
      "cell_type": "code",
      "source": [
        "# cmd 안에서 ..\n",
        "C:\\> set PYTHONPATH=C:/doit     # C:/doit 경로를 파이썬이 처리할 수 있도록 세팅\n",
        "C:\\> python                     # 파이썬 들어가기\n",
        ">>> import game.sound.echo      # game/sound/echo 불러오기\n",
        ">>> game.sound.echo.echo_test() # echo_test()메서드 실행\n",
        "echo                            # 실행결과"
      ],
      "metadata": {
        "id": "l8aQOna9puMi"
      },
      "execution_count": null,
      "outputs": []
    },
    {
      "cell_type": "code",
      "source": [
        ">>> exit()\n",
        "C:\\> python\n",
        ">>> from game.sound import echo\n",
        ">>> echo.echo_test()\n",
        "echo"
      ],
      "metadata": {
        "id": "noRBdVt6puKS"
      },
      "execution_count": null,
      "outputs": []
    },
    {
      "cell_type": "code",
      "source": [
        ">>> from game.sound.echo import echo_test\n",
        ">>> echo_test()\n",
        "echo"
      ],
      "metadata": {
        "id": "xaUNPlB2puH5"
      },
      "execution_count": null,
      "outputs": []
    },
    {
      "cell_type": "code",
      "source": [
        "# 파이썬 인터프리터를 재시작 하고 진행해야한다\n",
        ">>> import game\n",
        ">>> game.sound.echo.echo_test()\n",
        "Traceback (most recent call last):\n",
        "    File \"<stdin>\", line 1, in <module>\n",
        "AttributeError: 'module' object has no attribute 'sound'"
      ],
      "metadata": {
        "id": "jKsuk5nFqogK"
      },
      "execution_count": null,
      "outputs": []
    },
    {
      "cell_type": "code",
      "source": [
        ">>> import game.sound.echo.echo_test\n",
        "Traceback (most recent call last):\n",
        "    File \"<stdin>\", line 1, in <module>\n",
        "ModuleNotFoundError: No module named 'game.sound.echo.echo_test'; 'game.sound.echo' is not a package"
      ],
      "metadata": {
        "id": "I5WwlpmuqoeR"
      },
      "execution_count": null,
      "outputs": []
    },
    {
      "cell_type": "code",
      "source": [
        "# __init__\n",
        "# 해당 디렉터리가 패키지의 일부임을 알려 주는 역할(초기화 해주는 역할)"
      ],
      "metadata": {
        "id": "dtnLwiXRq9kJ"
      },
      "execution_count": null,
      "outputs": []
    },
    {
      "cell_type": "code",
      "source": [
        "# C:/doit/game/__init__.py\n",
        "VERSION = 3.5\n",
        "\n",
        "def print_version_info():\n",
        "    print(f\"The version of this game is {VERSION}.\")"
      ],
      "metadata": {
        "id": "S1ZKzIBlq4-K"
      },
      "execution_count": null,
      "outputs": []
    },
    {
      "cell_type": "code",
      "source": [
        ">>> import game\n",
        ">>> print(game.VERSION)\n",
        "3.5\n",
        ">>> game.print_version_info()\n",
        "The version of this game is 3.5."
      ],
      "metadata": {
        "id": "rzEGQwq_q48S"
      },
      "execution_count": null,
      "outputs": []
    },
    {
      "cell_type": "code",
      "source": [
        "# C:/doit/game/__init__.py\n",
        "from .graphic.render import render_test  # 패키지 내의 다른 모듈을 미리 import하여\n",
        "                                         # 패키지를 사용하는 코드에서 간편하게 접근할 수 있게 한다.\n",
        "VERSION = 3.5\n",
        "\n",
        "def print_version_info():\n",
        "    print(f\"The version of this game is {VERSION}.\")"
      ],
      "metadata": {
        "id": "MC0e36FQq45K"
      },
      "execution_count": null,
      "outputs": []
    },
    {
      "cell_type": "code",
      "source": [
        ">>> import game\n",
        ">>> game.render_test()\n",
        "render"
      ],
      "metadata": {
        "id": "_axT95MNqob6"
      },
      "execution_count": null,
      "outputs": []
    },
    {
      "cell_type": "code",
      "source": [
        "# C:/doit/game/__init__.py\n",
        "from .graphic.render import render_test\n",
        "\n",
        "VERSION = 3.5\n",
        "\n",
        "def print_version_info():\n",
        "    print(f\"The version of this game is {VERSION}.\")\n",
        "\n",
        "# 여기에 패키지 초기화 코드를 작성한다.\n",
        "print(\"Initializing game ...\")"
      ],
      "metadata": {
        "id": "VoAhT-hPqoZa"
      },
      "execution_count": null,
      "outputs": []
    },
    {
      "cell_type": "code",
      "source": [
        ">>> import game\n",
        "Initializing game ...\n",
        ">>>"
      ],
      "metadata": {
        "id": "ZGYnE9oYqoXK"
      },
      "execution_count": null,
      "outputs": []
    },
    {
      "cell_type": "code",
      "source": [
        "#game 패키지의 초기화 코드는 game 패키지의 하위 모듈의 함수를 import할 경우에도 실행된다.\n",
        ">>> from game.graphic.render import render_test\n",
        "Initializing game ..."
      ],
      "metadata": {
        "id": "JWYbl4EAutZn"
      },
      "execution_count": null,
      "outputs": []
    },
    {
      "cell_type": "code",
      "source": [
        "#초기화 코드는 한 번 실행된 후에는 다시 import를 수행하더라도 실행되지 않는다\n",
        ">>> import game\n",
        "Initializing game ...\n",
        ">>> from game.graphic.render import render_test\n",
        ">>>"
      ],
      "metadata": {
        "id": "EihHC4NbutXY"
      },
      "execution_count": null,
      "outputs": []
    },
    {
      "cell_type": "code",
      "source": [
        "# __all__     :     *를 사용하여 import할 경우, 이곳에 해당 모듈만 import된다"
      ],
      "metadata": {
        "id": "MQS-gFNjutRX"
      },
      "execution_count": null,
      "outputs": []
    },
    {
      "cell_type": "code",
      "source": [
        ">>> from game.sound import *   # * -> 모든 모듈을 불러온다\n",
        "Initializing game ...\n",
        ">>> echo.echo_test()\n",
        "Traceback (most recent call last):\n",
        "    File \"<stdin>\", line 1, in <module>\n",
        "NameError: name 'echo' is not defined\n",
        "### error"
      ],
      "metadata": {
        "id": "z-PXIpx2utPH"
      },
      "execution_count": null,
      "outputs": []
    },
    {
      "cell_type": "code",
      "source": [
        "# __all__ 적용 후\n",
        "\n",
        ">>> from game.sound import *\n",
        "Initializing game ...\n",
        ">>> echo.echo_test()\n",
        "echo"
      ],
      "metadata": {
        "id": "lC3ot66mwRTv"
      },
      "execution_count": null,
      "outputs": []
    },
    {
      "cell_type": "code",
      "source": [
        "# graphic 디렉터리의 render.py 모듈에서 sound 디렉터리의 echo.py 모듈을 사용하고 싶다면\n",
        "\n",
        "# render.py\n",
        "from game.sound.echo import echo_test\n",
        "def render_test():\n",
        "    print(\"render\")\n",
        "    echo_test()"
      ],
      "metadata": {
        "id": "x8ZLt02ZwRRn"
      },
      "execution_count": null,
      "outputs": []
    },
    {
      "cell_type": "code",
      "source": [
        ">>> from game.graphic.render import render_test\n",
        "Initializing game ...\n",
        ">>> render_test()\n",
        "render\n",
        "echo"
      ],
      "metadata": {
        "id": "bXgrv8JlwRPX"
      },
      "execution_count": null,
      "outputs": []
    },
    {
      "cell_type": "code",
      "source": [
        "# 다음과 같이 할 수도 있다"
      ],
      "metadata": {
        "id": "3S7RM5PRwkQh"
      },
      "execution_count": null,
      "outputs": []
    },
    {
      "cell_type": "code",
      "source": [
        "# render.py\n",
        "from ..sound.echo import echo_test\n",
        "\n",
        "def render_test():\n",
        "    print(\"render\")\n",
        "    echo_test()"
      ],
      "metadata": {
        "id": "m1ot8SGuwkOR"
      },
      "execution_count": null,
      "outputs": []
    },
    {
      "cell_type": "markdown",
      "source": [
        "\n",
        "..\t:  부모 디렉터리\n",
        "\n",
        ".\t:  현재 디렉터리\n"
      ],
      "metadata": {
        "id": "YbHzg_7QwrCf"
      }
    }
  ]
}