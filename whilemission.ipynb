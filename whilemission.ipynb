{
  "nbformat": 4,
  "nbformat_minor": 0,
  "metadata": {
    "colab": {
      "provenance": [],
      "authorship_tag": "ABX9TyOc9Cvx5w7Arp9dz5Kp/xkE",
      "include_colab_link": true
    },
    "kernelspec": {
      "name": "python3",
      "display_name": "Python 3"
    },
    "language_info": {
      "name": "python"
    }
  },
  "cells": [
    {
      "cell_type": "markdown",
      "metadata": {
        "id": "view-in-github",
        "colab_type": "text"
      },
      "source": [
        "<a href=\"https://colab.research.google.com/github/gyuheon1/pythonStudy24/blob/master/whilemission.ipynb\" target=\"_parent\"><img src=\"https://colab.research.google.com/assets/colab-badge.svg\" alt=\"Open In Colab\"/></a>"
      ]
    },
    {
      "cell_type": "code",
      "execution_count": null,
      "metadata": {
        "id": "T-NRKeXaQktS"
      },
      "outputs": [],
      "source": [
        "    # 미션\n",
        "# 관리자가 커피 가격과 커피명을 정하고 개수를 입력한다.\n",
        "# 소비자가 커피를 구매하는데 잔돈이 나와야 함\n",
        "# 판매 종료 후 관리자가 커피 판매한 총액을 파악해야 함"
      ]
    },
    {
      "cell_type": "code",
      "source": [
        "# 1. 음료 설정\n",
        "d = {}        # 음료 종류 저장용 딕셔너리\n",
        "a = True      # 관리자 모드\n",
        "b = True      # 영업 모드\n",
        "c = False     # 마감모드\n",
        "order_d =  {} # 주문내역 초기값\n",
        "while a :\n",
        "    drink_name = input(\"음료의 이름을 입력 해주세요 : \")     # 커피 이름 설정\n",
        "    drink_price = input(\"음료의 가격을 입력 해주세요 : \")    # 커피 가격 설정\n",
        "    if drink_price.isdigit() == False:\n",
        "        print(\"숫자만 입력해주세요\")\n",
        "        continue\n",
        "    else:\n",
        "        drink_price = int(drink_price)\n",
        "\n",
        "    count = input(\"음료의 개수를 입력 해주세요 : \")    # 커피 개수 설정\n",
        "    if count.isdigit() == False:\n",
        "        print(\"숫자만 입력해주세요\")\n",
        "        continue\n",
        "    else:\n",
        "        count = int(count)\n",
        "\n",
        "        d[drink_name] = [drink_price, count]                       # 커피 정보 딕셔너리에 저장\n",
        "\n",
        "\n",
        "    add = input(\"음료를 더 추가하시겠습니까? (Y/N) : \")\n",
        "    if add == 'Y'or add == 'y':                        # 커피 추가 여부\n",
        "        continue\n",
        "    elif add == 'N'or add == 'n':\n",
        "        a = False\n",
        "        break\n",
        "    else:\n",
        "        print(\"Y또는 N만 입력해주세요\")\n",
        "        while True:                                    # 커피 추가 여부 예외처리\n",
        "            add = input(\"음료를 더 추가하시겠습니까? (Y/N) : \")\n",
        "            if add == 'Y'or add == 'y':\n",
        "                break\n",
        "            elif add == 'N'or add == 'n':\n",
        "                a = False\n",
        "                break\n",
        "            else:\n",
        "                print(\"Y또는 N만 입력해주세요\")\n",
        "                continue\n",
        "\n",
        "\n",
        "print(\"===================\")\n",
        "print(\"영업을 시작 합니다.\")\n",
        "print(\"===================\")\n"
      ],
      "metadata": {
        "id": "nKnrOn_0Qv7r",
        "colab": {
          "base_uri": "https://localhost:8080/"
        },
        "outputId": "ebcaea3f-c032-4182-d293-bf3bf3996538"
      },
      "execution_count": null,
      "outputs": [
        {
          "output_type": "stream",
          "name": "stdout",
          "text": [
            "음료의 이름을 입력 해주세요 : 아메리카노\n",
            "음료의 가격을 입력 해주세요 : 1000\n",
            "음료의 개수를 입력 해주세요 : 100\n",
            "음료를 더 추가하시겠습니까? (Y/N) : y\n",
            "음료의 이름을 입력 해주세요 : 라떼\n",
            "음료의 가격을 입력 해주세요 : 2000\n",
            "음료의 개수를 입력 해주세요 : 200\n",
            "음료를 더 추가하시겠습니까? (Y/N) : y\n",
            "음료의 이름을 입력 해주세요 : 아이스티\n",
            "음료의 가격을 입력 해주세요 : 3000\n",
            "음료의 개수를 입력 해주세요 : 300\n",
            "음료를 더 추가하시겠습니까? (Y/N) : n\n",
            "===================\n",
            "영업을 시작 합니다.\n",
            "===================\n"
          ]
        }
      ]
    },
    {
      "cell_type": "code",
      "source": [
        "for i in d:\n",
        "    print(f'음료명 :{i:^10s}음료가격 :{d[i][0]:^10d}잔여수량 :{d[i][1]:^10d}')"
      ],
      "metadata": {
        "colab": {
          "base_uri": "https://localhost:8080/"
        },
        "id": "hr_qzQx49iPY",
        "outputId": "b92cd281-18c4-4140-d699-55637ab2d770"
      },
      "execution_count": null,
      "outputs": [
        {
          "output_type": "stream",
          "name": "stdout",
          "text": [
            "음료명 :  아메리카노   음료가격 :   1000   잔여수량 :   100    \n",
            "음료명 :    라떼    음료가격 :   2000   잔여수량 :   200    \n",
            "음료명 :   아이스티   음료가격 :   3000   잔여수량 :   300    \n"
          ]
        }
      ]
    },
    {
      "cell_type": "code",
      "source": [
        "# 2. 판매\n",
        "\n",
        "\n",
        "while b:\n",
        "    for i in d:\n",
        "        print(f'음료명 :{i:^10s}음료가격 :{d[i][0]:^10d} 원 잔여수량 :{d[i][1]:^10d} 잔 ')\n",
        "    drink =\"\"\n",
        "    drink = str(input(\"드실 음료를 입력 해주세요 : \"))     # 음료명 지정\n",
        "    if drink in d:\n",
        "        drink_c = 0\n",
        "        drink_c = input(\"음료의 개수를 선택 해주세요 : \") # 음료개수 지정\n",
        "        if drink_c.isdigit() == False:\n",
        "            print(\"숫자만 입력해주세요\")\n",
        "            continue\n",
        "        else: drink_c = int(drink_c)\n",
        "\n",
        "        if d[drink][1] >= drink_c:                    # 음료 개수 확인\n",
        "            d[drink][1] -= drink_c                    # d[drink][1] = 음료 현재 개수 , drink_c = 선택한 음료 개수\n",
        "        else:\n",
        "            print(\"재고가 부족합니다.\")\n",
        "            continue\n",
        "        order_d[drink] = drink_c\n",
        "    else:\n",
        "        print(\"없는 음료입니다.\")\n",
        "        continue\n",
        "    drink_add = input(\"음료를 더 추가하시겠습니까? (Y/N) : \")\n",
        "    if drink_add == 'Y'or drink_add == 'y':           # 음료 추가 여부\n",
        "        continue\n",
        "    elif drink_add == 'N'or drink_add == 'n':\n",
        "        break\n",
        "\n"
      ],
      "metadata": {
        "colab": {
          "base_uri": "https://localhost:8080/"
        },
        "id": "pckydsgG8mzh",
        "outputId": "e6b15e5c-44dd-40a6-9f04-6e38efb5e1d7"
      },
      "execution_count": null,
      "outputs": [
        {
          "name": "stdout",
          "output_type": "stream",
          "text": [
            "음료명 :  아메리카노   음료가격 :   1000   잔여수량 :   100    \n",
            "음료명 :    라떼    음료가격 :   2000   잔여수량 :   200    \n",
            "음료명 :   아이스티   음료가격 :   3000   잔여수량 :   300    \n",
            "드실 음료를 입력 해주세요 : 아메리카노\n",
            "음료의 개수를 선택 해주세요 : 2\n",
            "음료를 더 추가하시겠습니까? (Y/N) : n\n"
          ]
        }
      ]
    },
    {
      "cell_type": "code",
      "source": [
        "print(d)\n",
        "print(order_d)"
      ],
      "metadata": {
        "colab": {
          "base_uri": "https://localhost:8080/"
        },
        "id": "UB_FRird9iyS",
        "outputId": "94d835ff-b8a1-49cb-b9d6-4fbcf102a927"
      },
      "execution_count": null,
      "outputs": [
        {
          "output_type": "stream",
          "name": "stdout",
          "text": [
            "{'아메리카노': [1000, 98], '라떼': [2000, 200], '아이스티': [3000, 300]}\n",
            "{'아메리카노': 2}\n"
          ]
        }
      ]
    },
    {
      "cell_type": "code",
      "source": [
        " # 3. 계산\n",
        "total=0\n",
        "pay_t = 0\n",
        "for i in order_d:\n",
        "    print(f'음료명 :{i:^5s} 음료개수 :{order_d[i]:^5d} 잔  가격 : {order_d[i]* d[i][0]:^5d} 원 ')\n",
        "    total += order_d[i] * d[i][0]\n",
        "    print(f'총 가격 : {total} 원')\n",
        "    print(\"===================\")\n",
        "while pay_t < total:\n",
        "    pay = (input(\"돈을 넣어주세요 : \"))\n",
        "    if pay.isdigit() == False:\n",
        "        print(\"숫자만 입력해주세요\")\n",
        "    else:\n",
        "        pay = int(pay)\n",
        "        pay_t += pay\n",
        "        if pay_t >= total:\n",
        "            print(f'거스름돈 : {pay_t - total} 원')\n",
        "        else:\n",
        "            print(f\"돈이 부족합니다.{total-pay_t}원 만큼 더 지불해주세요\")\n",
        "\n"
      ],
      "metadata": {
        "colab": {
          "base_uri": "https://localhost:8080/"
        },
        "id": "8wdVbb428mxO",
        "outputId": "ccbb7a46-ef56-4992-f3f1-603ac2f59cdc"
      },
      "execution_count": 48,
      "outputs": [
        {
          "output_type": "stream",
          "name": "stdout",
          "text": [
            "음료명 :아메리카노 음료개수 :  2   잔  가격 : 2000  원 \n",
            "총 가격 : 2000 원\n",
            "===================\n",
            "돈을 넣어주세요 : 1000\n",
            "돈이 부족합니다.1000원 만큼 더 지불해주세요\n",
            "돈을 넣어주세요 : 1000\n",
            "거스름돈 : 0 원\n"
          ]
        }
      ]
    },
    {
      "cell_type": "code",
      "source": [
        "# 4. 마감\n",
        "c = True\n",
        "for i in d:\n",
        "    coffee_count = 0\n",
        "    coffee_count += d[i][1]\n",
        "if coffee_count == 0:\n",
        "    print(\"커피 판매를 종료합니다.\")\n",
        "    c = True\n",
        "if c == True:\n",
        "    total_sales = 0\n",
        "    for i in order_d:\n",
        "        total_sales += order_d[i]* d[i][0]\n",
        "    print(\"\"\"\n",
        "    ===================\n",
        "    판매를 종료합니다.\n",
        "    ===================\n",
        "    판매 내역\n",
        "    \"\"\")\n",
        "    for i in d:\n",
        "        print(f\"\"\"\n",
        "        음료명 :{i:^10s}\n",
        "        음료가격 :{d[i][0]:^10d} 원 수량 :{d[i][1]:^10d} 잔 = {d[i][0]*d[i][1]} 원\n",
        "\n",
        "        \"\"\")\n",
        "\n",
        "    print(f\"총 판매 금액 : {total_sales} 원\")\n"
      ],
      "metadata": {
        "colab": {
          "base_uri": "https://localhost:8080/"
        },
        "id": "4z-5fAMF8mn1",
        "outputId": "06600146-57c4-4178-f564-a2d8dbbfbc01"
      },
      "execution_count": 53,
      "outputs": [
        {
          "output_type": "stream",
          "name": "stdout",
          "text": [
            "\n",
            "    ===================\n",
            "    판매를 종료합니다.\n",
            "    ===================\n",
            "    판매 내역\n",
            "    \n",
            "\n",
            "        음료명 :  아메리카노   \n",
            "        음료가격 :   1000    원 수량 :    98     잔 = 98000 원\n",
            "        \n",
            "        \n",
            "\n",
            "        음료명 :    라떼    \n",
            "        음료가격 :   2000    원 수량 :   200     잔 = 400000 원\n",
            "        \n",
            "        \n",
            "\n",
            "        음료명 :   아이스티   \n",
            "        음료가격 :   3000    원 수량 :   300     잔 = 900000 원\n",
            "        \n",
            "        \n",
            "총 판매 금액 : 2000 원\n"
          ]
        }
      ]
    },
    {
      "cell_type": "code",
      "source": [],
      "metadata": {
        "id": "yQdDGfLXR2H_"
      },
      "execution_count": null,
      "outputs": []
    },
    {
      "cell_type": "code",
      "source": [],
      "metadata": {
        "id": "7t8EBFIGM9S9"
      },
      "execution_count": null,
      "outputs": []
    }
  ]
}