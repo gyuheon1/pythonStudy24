{
  "nbformat": 4,
  "nbformat_minor": 0,
  "metadata": {
    "colab": {
      "provenance": [],
      "authorship_tag": "ABX9TyN63Le8LoaMnbyFzpuz5XN1",
      "include_colab_link": true
    },
    "kernelspec": {
      "name": "python3",
      "display_name": "Python 3"
    },
    "language_info": {
      "name": "python"
    }
  },
  "cells": [
    {
      "cell_type": "markdown",
      "metadata": {
        "id": "view-in-github",
        "colab_type": "text"
      },
      "source": [
        "<a href=\"https://colab.research.google.com/github/gyuheon1/pythonStudy24/blob/master/whilemission.ipynb\" target=\"_parent\"><img src=\"https://colab.research.google.com/assets/colab-badge.svg\" alt=\"Open In Colab\"/></a>"
      ]
    },
    {
      "cell_type": "code",
      "execution_count": 1,
      "metadata": {
        "id": "T-NRKeXaQktS"
      },
      "outputs": [],
      "source": [
        "    # 미션\n",
        "# 관리자가 커피 가격과 커피명을 정하고 개수를 입력한다.\n",
        "# 소비자가 커피를 구매하는데 잔돈이 나와야 함\n",
        "# 판매 종료 후 관리자가 커피 판매한 총액을 파악해야 함"
      ]
    },
    {
      "cell_type": "code",
      "source": [
        "# 1. 음료 설정\n",
        "d = {}        #음료 종류 저장용 딕셔너리\n",
        "a = True\n",
        "order_d =  {} # 주문내역 초기값\n",
        "drink_kind = [] #음료 종류 리스트 초기값\n",
        "while a :\n",
        "    name = input(\"음료의 이름을 입력 해주세요 : \")     # 커피 이름 설정\n",
        "    price = input(\"음료의 가격을 입력 해주세요 : \")    # 커피 가격 설정\n",
        "    if price.isdigit() == False:\n",
        "        print(\"숫자만 입력해주세요\")\n",
        "        continue\n",
        "    else:\n",
        "        price = int(price)\n",
        "\n",
        "    count = input(\"음료의 개수를 입력 해주세요 : \")    # 커피 개수 설정\n",
        "    if count.isdigit() == False:\n",
        "        print(\"숫자만 입력해주세요\")\n",
        "        continue\n",
        "    else:\n",
        "        count = int(count)\n",
        "\n",
        "        d[name] = [price, count]                       # 커피 정보 딕셔너리에 저장\n",
        "\n",
        "\n",
        "    add = input(\"음료를 더 추가하시겠습니까? (Y/N) : \")\n",
        "    if add == 'Y'or add == 'y':                        # 커피 추가 여부\n",
        "        continue\n",
        "    elif add == 'N'or add == 'n':\n",
        "        a = False\n",
        "        break\n",
        "    else:\n",
        "        print(\"Y또는 N만 입력해주세요\")\n",
        "        while True:                                    # 커피 추가 여부 예외처리\n",
        "            add = input(\"음료를 더 추가하시겠습니까? (Y/N) : \")\n",
        "            if add == 'Y'or add == 'y':\n",
        "                break\n",
        "            elif add == 'N'or add == 'n':\n",
        "                a = False\n",
        "                break\n",
        "            else:\n",
        "                print(\"Y또는 N만 입력해주세요\")\n",
        "                continue\n",
        "\n",
        "for i in d:\n",
        "    drink_kind.append(i)\n",
        "\n",
        "print(\"===================\")\n",
        "print(\"영업을 시작 합니다.\")\n",
        "print(\"===================\")\n",
        "\n",
        "\n",
        "# 2. 판매\n",
        "\n",
        "\n",
        "while True:\n",
        "    for i in drink_kind:\n",
        "        print(f'')\n",
        "    drink =\"\"\n",
        "    drink = str(input(\"드실 음료를 입력 해주세요 : \"))     # 음료명 지정\n",
        "    if drink in d:\n",
        "        drink_c = 0\n",
        "        drink_c = input(\"음료의 개수를 선택 해주세요 : \") # 음료개수 지정\n",
        "        if drink_c.isdigit() == False:\n",
        "            print(\"숫자만 입력해주세요\")\n",
        "            continue\n",
        "        else: drink_c = int(drink_c)\n",
        "\n",
        "        if d[drink][1] >= drink_c:                    # 음료 개수 확인\n",
        "            d[drink][1] -= drink_c                    # d[drink][1] = 음료 현재 개수 , drink_c = 선택한 음료 개수\n",
        "        else:\n",
        "            print(\"재고가 부족합니다.\")\n",
        "            continue\n",
        "        order_d[drink] = drink_c\n",
        "    else:\n",
        "        print(\"없는 음료입니다.\")\n",
        "        continue\n",
        "    drink_add = input(\"음료를 더 추가하시겠습니까? (Y/N) : \")\n",
        "    if drink_add == 'Y'or drink_add == 'y':           # 음료 추가 여부\n",
        "        continue\n",
        "    elif drink_add == 'N'or drink_add == 'n':\n",
        "        break\n",
        "\n",
        "\n",
        "    # 3. 계산\n",
        "\n",
        "\n"
      ],
      "metadata": {
        "id": "nKnrOn_0Qv7r"
      },
      "execution_count": null,
      "outputs": []
    }
  ]
}