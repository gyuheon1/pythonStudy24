{
  "nbformat": 4,
  "nbformat_minor": 0,
  "metadata": {
    "colab": {
      "provenance": [],
      "authorship_tag": "ABX9TyM20urz7XRbCCLwhetStUcq",
      "include_colab_link": true
    },
    "kernelspec": {
      "name": "python3",
      "display_name": "Python 3"
    },
    "language_info": {
      "name": "python"
    }
  },
  "cells": [
    {
      "cell_type": "markdown",
      "metadata": {
        "id": "view-in-github",
        "colab_type": "text"
      },
      "source": [
        "<a href=\"https://colab.research.google.com/github/gyuheon1/pythonStudy24/blob/master/TestNote.ipynb\" target=\"_parent\"><img src=\"https://colab.research.google.com/assets/colab-badge.svg\" alt=\"Open In Colab\"/></a>"
      ]
    },
    {
      "cell_type": "code",
      "execution_count": 46,
      "metadata": {
        "id": "4dgU_I-vzlxy"
      },
      "outputs": [],
      "source": [
        "### .sort() 를 쓰지 않고 내림차순 정렬해보기\n",
        "a = [ 8, 6, 4, 9, 5, 65, 7, 32]"
      ]
    },
    {
      "cell_type": "code",
      "source": [
        "temp = []\n",
        "for i in range(len(a)):\n",
        "  for j in range(len(temp)):\n",
        "    if a[i] < temp[j]:\n",
        "      temp.insert(j,a[i])\n",
        "      break\n",
        "  else:\n",
        "    temp.append(a[i])"
      ],
      "metadata": {
        "id": "wMA0vpxw5kkN"
      },
      "execution_count": 74,
      "outputs": []
    },
    {
      "cell_type": "code",
      "source": [
        "temp"
      ],
      "metadata": {
        "colab": {
          "base_uri": "https://localhost:8080/"
        },
        "id": "ikESjBq_9KCN",
        "outputId": "d7478601-5d28-4b6b-c2ff-12e3ce9b020d"
      },
      "execution_count": 75,
      "outputs": [
        {
          "output_type": "execute_result",
          "data": {
            "text/plain": [
              "[4, 5, 6, 7, 8, 9, 32, 65]"
            ]
          },
          "metadata": {},
          "execution_count": 75
        }
      ]
    },
    {
      "cell_type": "code",
      "source": [],
      "metadata": {
        "id": "lQxWInNu_Zh1"
      },
      "execution_count": null,
      "outputs": []
    }
  ]
}